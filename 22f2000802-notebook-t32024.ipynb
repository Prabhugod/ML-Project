{
 "cells": [
  {
   "cell_type": "code",
   "execution_count": 1,
   "id": "9a7886c0",
   "metadata": {
    "_cell_guid": "b1076dfc-b9ad-4769-8c92-a6c4dae69d19",
    "_uuid": "8f2839f25d086af736a60e9eeb907d3b93b6e0e5",
    "execution": {
     "iopub.execute_input": "2024-11-22T02:58:56.165643Z",
     "iopub.status.busy": "2024-11-22T02:58:56.165227Z",
     "iopub.status.idle": "2024-11-22T02:59:01.269043Z",
     "shell.execute_reply": "2024-11-22T02:59:01.267834Z"
    },
    "papermill": {
     "duration": 5.122714,
     "end_time": "2024-11-22T02:59:01.272072",
     "exception": false,
     "start_time": "2024-11-22T02:58:56.149358",
     "status": "completed"
    },
    "tags": []
   },
   "outputs": [
    {
     "name": "stdout",
     "output_type": "stream",
     "text": [
      "/kaggle/input/predict-the-success-of-bank-telemarketing/sample_submission.csv\n",
      "/kaggle/input/predict-the-success-of-bank-telemarketing/train.csv\n",
      "/kaggle/input/predict-the-success-of-bank-telemarketing/test.csv\n"
     ]
    }
   ],
   "source": [
    "# This Python 3 environment comes with many helpful analytics libraries installed\n",
    "# It is defined by the kaggle/python Docker image: https://github.com/kaggle/docker-python\n",
    "# For example, here's several helpful packages to load\n",
    "\n",
    "# Data Processing & Handling\n",
    "import numpy as np  # Linear algebra\n",
    "import pandas as pd  # Data processing, CSV file I/O (e.g. pd.read_csv)\n",
    "\n",
    "# Data Visualization\n",
    "import matplotlib.pyplot as plt  # Plotting\n",
    "import seaborn as sns  # Plotting\n",
    "\n",
    "# Model Selection & Evaluation\n",
    "from sklearn.model_selection import train_test_split  # Train-test split\n",
    "from sklearn.model_selection import cross_val_score, GridSearchCV  # Cross-validation and Grid Search\n",
    "\n",
    "# Preprocessing & Encoding\n",
    "from sklearn.impute import SimpleImputer  # Handle missing data\n",
    "from sklearn.pipeline import Pipeline  # Pipeline for machine learning workflow\n",
    "from sklearn.compose import ColumnTransformer  # Column-wise transformations\n",
    "from sklearn.preprocessing import OneHotEncoder  # One hot encoding\n",
    "from sklearn.preprocessing import LabelEncoder  # Label encoding\n",
    "from sklearn.preprocessing import StandardScaler  # Feature scaling\n",
    "\n",
    "# Classifiers\n",
    "from sklearn.linear_model import LogisticRegression  # Logistic regression\n",
    "from sklearn.dummy import DummyClassifier  # Dummy classifier (baseline)\n",
    "from sklearn.tree import DecisionTreeClassifier  # Decision tree\n",
    "from sklearn.svm import SVC  # Support Vector Classifier\n",
    "from sklearn.neighbors import KNeighborsClassifier  # K-Nearest Neighbors\n",
    "from sklearn.ensemble import GradientBoostingClassifier  # Gradient boosting\n",
    "from xgboost import XGBClassifier  # XGBoost classifier\n",
    "from lightgbm import LGBMClassifier  # LightGBM classifier\n",
    "\n",
    "# Imbalanced Data Handling\n",
    "from imblearn.over_sampling import SMOTE  # SMOTE for over-sampling\n",
    "from imblearn.pipeline import Pipeline as ImbPipeline  # Imbalanced pipeline\n",
    "\n",
    "# Model Evaluation Metrics\n",
    "from sklearn.metrics import f1_score, classification_report, confusion_matrix  # Evaluation metrics\n",
    "\n",
    "\n",
    "# Input data files are available in the read-only \"../input/\" directory\n",
    "# For example, running this (by clicking run or pressing Shift+Enter) will list all files under the input directory\n",
    "\n",
    "import os\n",
    "for dirname, _, filenames in os.walk('/kaggle/input'):\n",
    "    for filename in filenames:\n",
    "        print(os.path.join(dirname, filename))\n",
    "\n",
    "# You can write up to 20GB to the current directory (/kaggle/working/) that gets preserved as output when you create a version using \"Save & Run All\" \n",
    "# You can also write temporary files to /kaggle/temp/, but they won't be saved outside of the current session"
   ]
  },
  {
   "cell_type": "markdown",
   "id": "a5e70390",
   "metadata": {
    "papermill": {
     "duration": 0.01153,
     "end_time": "2024-11-22T02:59:01.297234",
     "exception": false,
     "start_time": "2024-11-22T02:59:01.285704",
     "status": "completed"
    },
    "tags": []
   },
   "source": [
    "# **1. Loading the Dataset**"
   ]
  },
  {
   "cell_type": "code",
   "execution_count": 2,
   "id": "696e837e",
   "metadata": {
    "execution": {
     "iopub.execute_input": "2024-11-22T02:59:01.321585Z",
     "iopub.status.busy": "2024-11-22T02:59:01.320959Z",
     "iopub.status.idle": "2024-11-22T02:59:01.489595Z",
     "shell.execute_reply": "2024-11-22T02:59:01.488459Z"
    },
    "papermill": {
     "duration": 0.183495,
     "end_time": "2024-11-22T02:59:01.491887",
     "exception": false,
     "start_time": "2024-11-22T02:59:01.308392",
     "status": "completed"
    },
    "tags": []
   },
   "outputs": [
    {
     "name": "stdout",
     "output_type": "stream",
     "text": [
      "Training data shape: (39211, 16)\n",
      "Test data shape: (10000, 15)\n"
     ]
    }
   ],
   "source": [
    "train_df = pd.read_csv('/kaggle/input/predict-the-success-of-bank-telemarketing/train.csv')\n",
    "test_df = pd.read_csv('/kaggle/input/predict-the-success-of-bank-telemarketing/test.csv')\n",
    "\n",
    "#Shape of the Training and Test Dataset\n",
    "print(f'Training data shape: {train_df.shape}')\n",
    "print(f'Test data shape: {test_df.shape}')"
   ]
  },
  {
   "cell_type": "markdown",
   "id": "5581d705",
   "metadata": {
    "papermill": {
     "duration": 0.011876,
     "end_time": "2024-11-22T02:59:01.516017",
     "exception": false,
     "start_time": "2024-11-22T02:59:01.504141",
     "status": "completed"
    },
    "tags": []
   },
   "source": [
    "# **2. Exploratory Data Analysis (EDA)**"
   ]
  },
  {
   "cell_type": "code",
   "execution_count": 3,
   "id": "35a70346",
   "metadata": {
    "execution": {
     "iopub.execute_input": "2024-11-22T02:59:01.539893Z",
     "iopub.status.busy": "2024-11-22T02:59:01.539486Z",
     "iopub.status.idle": "2024-11-22T02:59:01.566271Z",
     "shell.execute_reply": "2024-11-22T02:59:01.565202Z"
    },
    "papermill": {
     "duration": 0.041319,
     "end_time": "2024-11-22T02:59:01.568372",
     "exception": false,
     "start_time": "2024-11-22T02:59:01.527053",
     "status": "completed"
    },
    "tags": []
   },
   "outputs": [
    {
     "data": {
      "text/html": [
       "<div>\n",
       "<style scoped>\n",
       "    .dataframe tbody tr th:only-of-type {\n",
       "        vertical-align: middle;\n",
       "    }\n",
       "\n",
       "    .dataframe tbody tr th {\n",
       "        vertical-align: top;\n",
       "    }\n",
       "\n",
       "    .dataframe thead th {\n",
       "        text-align: right;\n",
       "    }\n",
       "</style>\n",
       "<table border=\"1\" class=\"dataframe\">\n",
       "  <thead>\n",
       "    <tr style=\"text-align: right;\">\n",
       "      <th></th>\n",
       "      <th>last contact date</th>\n",
       "      <th>age</th>\n",
       "      <th>job</th>\n",
       "      <th>marital</th>\n",
       "      <th>education</th>\n",
       "      <th>default</th>\n",
       "      <th>balance</th>\n",
       "      <th>housing</th>\n",
       "      <th>loan</th>\n",
       "      <th>contact</th>\n",
       "      <th>duration</th>\n",
       "      <th>campaign</th>\n",
       "      <th>pdays</th>\n",
       "      <th>previous</th>\n",
       "      <th>poutcome</th>\n",
       "      <th>target</th>\n",
       "    </tr>\n",
       "  </thead>\n",
       "  <tbody>\n",
       "    <tr>\n",
       "      <th>0</th>\n",
       "      <td>2009-04-17</td>\n",
       "      <td>26</td>\n",
       "      <td>blue-collar</td>\n",
       "      <td>married</td>\n",
       "      <td>secondary</td>\n",
       "      <td>no</td>\n",
       "      <td>647</td>\n",
       "      <td>yes</td>\n",
       "      <td>no</td>\n",
       "      <td>cellular</td>\n",
       "      <td>357</td>\n",
       "      <td>2</td>\n",
       "      <td>331</td>\n",
       "      <td>1</td>\n",
       "      <td>other</td>\n",
       "      <td>no</td>\n",
       "    </tr>\n",
       "    <tr>\n",
       "      <th>1</th>\n",
       "      <td>2009-10-11</td>\n",
       "      <td>52</td>\n",
       "      <td>technician</td>\n",
       "      <td>married</td>\n",
       "      <td>secondary</td>\n",
       "      <td>no</td>\n",
       "      <td>553</td>\n",
       "      <td>yes</td>\n",
       "      <td>no</td>\n",
       "      <td>telephone</td>\n",
       "      <td>160</td>\n",
       "      <td>1</td>\n",
       "      <td>-1</td>\n",
       "      <td>0</td>\n",
       "      <td>NaN</td>\n",
       "      <td>no</td>\n",
       "    </tr>\n",
       "    <tr>\n",
       "      <th>2</th>\n",
       "      <td>2010-11-20</td>\n",
       "      <td>44</td>\n",
       "      <td>blue-collar</td>\n",
       "      <td>married</td>\n",
       "      <td>secondary</td>\n",
       "      <td>no</td>\n",
       "      <td>1397</td>\n",
       "      <td>no</td>\n",
       "      <td>no</td>\n",
       "      <td>cellular</td>\n",
       "      <td>326</td>\n",
       "      <td>1</td>\n",
       "      <td>-1</td>\n",
       "      <td>0</td>\n",
       "      <td>NaN</td>\n",
       "      <td>no</td>\n",
       "    </tr>\n",
       "    <tr>\n",
       "      <th>3</th>\n",
       "      <td>2009-09-01</td>\n",
       "      <td>33</td>\n",
       "      <td>admin.</td>\n",
       "      <td>married</td>\n",
       "      <td>secondary</td>\n",
       "      <td>no</td>\n",
       "      <td>394</td>\n",
       "      <td>yes</td>\n",
       "      <td>no</td>\n",
       "      <td>telephone</td>\n",
       "      <td>104</td>\n",
       "      <td>3</td>\n",
       "      <td>-1</td>\n",
       "      <td>0</td>\n",
       "      <td>NaN</td>\n",
       "      <td>no</td>\n",
       "    </tr>\n",
       "    <tr>\n",
       "      <th>4</th>\n",
       "      <td>2008-01-29</td>\n",
       "      <td>31</td>\n",
       "      <td>entrepreneur</td>\n",
       "      <td>single</td>\n",
       "      <td>tertiary</td>\n",
       "      <td>no</td>\n",
       "      <td>137</td>\n",
       "      <td>no</td>\n",
       "      <td>no</td>\n",
       "      <td>cellular</td>\n",
       "      <td>445</td>\n",
       "      <td>2</td>\n",
       "      <td>-1</td>\n",
       "      <td>0</td>\n",
       "      <td>NaN</td>\n",
       "      <td>no</td>\n",
       "    </tr>\n",
       "    <tr>\n",
       "      <th>5</th>\n",
       "      <td>2009-05-07</td>\n",
       "      <td>25</td>\n",
       "      <td>entrepreneur</td>\n",
       "      <td>single</td>\n",
       "      <td>tertiary</td>\n",
       "      <td>no</td>\n",
       "      <td>140</td>\n",
       "      <td>yes</td>\n",
       "      <td>no</td>\n",
       "      <td>cellular</td>\n",
       "      <td>348</td>\n",
       "      <td>1</td>\n",
       "      <td>-1</td>\n",
       "      <td>0</td>\n",
       "      <td>NaN</td>\n",
       "      <td>no</td>\n",
       "    </tr>\n",
       "    <tr>\n",
       "      <th>6</th>\n",
       "      <td>2009-05-15</td>\n",
       "      <td>46</td>\n",
       "      <td>blue-collar</td>\n",
       "      <td>married</td>\n",
       "      <td>secondary</td>\n",
       "      <td>no</td>\n",
       "      <td>668</td>\n",
       "      <td>yes</td>\n",
       "      <td>no</td>\n",
       "      <td>NaN</td>\n",
       "      <td>1263</td>\n",
       "      <td>2</td>\n",
       "      <td>-1</td>\n",
       "      <td>0</td>\n",
       "      <td>NaN</td>\n",
       "      <td>yes</td>\n",
       "    </tr>\n",
       "    <tr>\n",
       "      <th>7</th>\n",
       "      <td>2010-05-08</td>\n",
       "      <td>37</td>\n",
       "      <td>admin.</td>\n",
       "      <td>married</td>\n",
       "      <td>secondary</td>\n",
       "      <td>no</td>\n",
       "      <td>14</td>\n",
       "      <td>yes</td>\n",
       "      <td>no</td>\n",
       "      <td>NaN</td>\n",
       "      <td>176</td>\n",
       "      <td>2</td>\n",
       "      <td>-1</td>\n",
       "      <td>0</td>\n",
       "      <td>NaN</td>\n",
       "      <td>no</td>\n",
       "    </tr>\n",
       "    <tr>\n",
       "      <th>8</th>\n",
       "      <td>2008-12-13</td>\n",
       "      <td>38</td>\n",
       "      <td>unemployed</td>\n",
       "      <td>divorced</td>\n",
       "      <td>primary</td>\n",
       "      <td>yes</td>\n",
       "      <td>14123</td>\n",
       "      <td>yes</td>\n",
       "      <td>yes</td>\n",
       "      <td>cellular</td>\n",
       "      <td>2370</td>\n",
       "      <td>4</td>\n",
       "      <td>852</td>\n",
       "      <td>4</td>\n",
       "      <td>other</td>\n",
       "      <td>no</td>\n",
       "    </tr>\n",
       "    <tr>\n",
       "      <th>9</th>\n",
       "      <td>2010-05-21</td>\n",
       "      <td>31</td>\n",
       "      <td>technician</td>\n",
       "      <td>married</td>\n",
       "      <td>secondary</td>\n",
       "      <td>no</td>\n",
       "      <td>589</td>\n",
       "      <td>yes</td>\n",
       "      <td>yes</td>\n",
       "      <td>NaN</td>\n",
       "      <td>151</td>\n",
       "      <td>1</td>\n",
       "      <td>-1</td>\n",
       "      <td>0</td>\n",
       "      <td>NaN</td>\n",
       "      <td>no</td>\n",
       "    </tr>\n",
       "  </tbody>\n",
       "</table>\n",
       "</div>"
      ],
      "text/plain": [
       "  last contact date  age           job   marital  education default  balance  \\\n",
       "0        2009-04-17   26   blue-collar   married  secondary      no      647   \n",
       "1        2009-10-11   52    technician   married  secondary      no      553   \n",
       "2        2010-11-20   44   blue-collar   married  secondary      no     1397   \n",
       "3        2009-09-01   33        admin.   married  secondary      no      394   \n",
       "4        2008-01-29   31  entrepreneur    single   tertiary      no      137   \n",
       "5        2009-05-07   25  entrepreneur    single   tertiary      no      140   \n",
       "6        2009-05-15   46   blue-collar   married  secondary      no      668   \n",
       "7        2010-05-08   37        admin.   married  secondary      no       14   \n",
       "8        2008-12-13   38    unemployed  divorced    primary     yes    14123   \n",
       "9        2010-05-21   31    technician   married  secondary      no      589   \n",
       "\n",
       "  housing loan    contact  duration  campaign  pdays  previous poutcome target  \n",
       "0     yes   no   cellular       357         2    331         1    other     no  \n",
       "1     yes   no  telephone       160         1     -1         0      NaN     no  \n",
       "2      no   no   cellular       326         1     -1         0      NaN     no  \n",
       "3     yes   no  telephone       104         3     -1         0      NaN     no  \n",
       "4      no   no   cellular       445         2     -1         0      NaN     no  \n",
       "5     yes   no   cellular       348         1     -1         0      NaN     no  \n",
       "6     yes   no        NaN      1263         2     -1         0      NaN    yes  \n",
       "7     yes   no        NaN       176         2     -1         0      NaN     no  \n",
       "8     yes  yes   cellular      2370         4    852         4    other     no  \n",
       "9     yes  yes        NaN       151         1     -1         0      NaN     no  "
      ]
     },
     "execution_count": 3,
     "metadata": {},
     "output_type": "execute_result"
    }
   ],
   "source": [
    "#Display first 10 rows of the training Dataset\n",
    "train_df.head(n=10)"
   ]
  },
  {
   "cell_type": "code",
   "execution_count": 4,
   "id": "1b56e89f",
   "metadata": {
    "execution": {
     "iopub.execute_input": "2024-11-22T02:59:01.593280Z",
     "iopub.status.busy": "2024-11-22T02:59:01.592872Z",
     "iopub.status.idle": "2024-11-22T02:59:01.609387Z",
     "shell.execute_reply": "2024-11-22T02:59:01.608470Z"
    },
    "papermill": {
     "duration": 0.031551,
     "end_time": "2024-11-22T02:59:01.611552",
     "exception": false,
     "start_time": "2024-11-22T02:59:01.580001",
     "status": "completed"
    },
    "tags": []
   },
   "outputs": [
    {
     "data": {
      "text/html": [
       "<div>\n",
       "<style scoped>\n",
       "    .dataframe tbody tr th:only-of-type {\n",
       "        vertical-align: middle;\n",
       "    }\n",
       "\n",
       "    .dataframe tbody tr th {\n",
       "        vertical-align: top;\n",
       "    }\n",
       "\n",
       "    .dataframe thead th {\n",
       "        text-align: right;\n",
       "    }\n",
       "</style>\n",
       "<table border=\"1\" class=\"dataframe\">\n",
       "  <thead>\n",
       "    <tr style=\"text-align: right;\">\n",
       "      <th></th>\n",
       "      <th>last contact date</th>\n",
       "      <th>age</th>\n",
       "      <th>job</th>\n",
       "      <th>marital</th>\n",
       "      <th>education</th>\n",
       "      <th>default</th>\n",
       "      <th>balance</th>\n",
       "      <th>housing</th>\n",
       "      <th>loan</th>\n",
       "      <th>contact</th>\n",
       "      <th>duration</th>\n",
       "      <th>campaign</th>\n",
       "      <th>pdays</th>\n",
       "      <th>previous</th>\n",
       "      <th>poutcome</th>\n",
       "    </tr>\n",
       "  </thead>\n",
       "  <tbody>\n",
       "    <tr>\n",
       "      <th>0</th>\n",
       "      <td>2009-11-21</td>\n",
       "      <td>36</td>\n",
       "      <td>management</td>\n",
       "      <td>single</td>\n",
       "      <td>tertiary</td>\n",
       "      <td>no</td>\n",
       "      <td>7</td>\n",
       "      <td>no</td>\n",
       "      <td>no</td>\n",
       "      <td>NaN</td>\n",
       "      <td>20</td>\n",
       "      <td>1</td>\n",
       "      <td>-1</td>\n",
       "      <td>0</td>\n",
       "      <td>NaN</td>\n",
       "    </tr>\n",
       "    <tr>\n",
       "      <th>1</th>\n",
       "      <td>2010-02-04</td>\n",
       "      <td>30</td>\n",
       "      <td>unemployed</td>\n",
       "      <td>married</td>\n",
       "      <td>tertiary</td>\n",
       "      <td>no</td>\n",
       "      <td>1067</td>\n",
       "      <td>no</td>\n",
       "      <td>no</td>\n",
       "      <td>cellular</td>\n",
       "      <td>78</td>\n",
       "      <td>2</td>\n",
       "      <td>-1</td>\n",
       "      <td>0</td>\n",
       "      <td>NaN</td>\n",
       "    </tr>\n",
       "    <tr>\n",
       "      <th>2</th>\n",
       "      <td>2010-07-28</td>\n",
       "      <td>32</td>\n",
       "      <td>blue-collar</td>\n",
       "      <td>single</td>\n",
       "      <td>secondary</td>\n",
       "      <td>no</td>\n",
       "      <td>82</td>\n",
       "      <td>yes</td>\n",
       "      <td>no</td>\n",
       "      <td>cellular</td>\n",
       "      <td>86</td>\n",
       "      <td>4</td>\n",
       "      <td>-1</td>\n",
       "      <td>0</td>\n",
       "      <td>NaN</td>\n",
       "    </tr>\n",
       "    <tr>\n",
       "      <th>3</th>\n",
       "      <td>2010-06-09</td>\n",
       "      <td>38</td>\n",
       "      <td>admin.</td>\n",
       "      <td>married</td>\n",
       "      <td>primary</td>\n",
       "      <td>no</td>\n",
       "      <td>1487</td>\n",
       "      <td>no</td>\n",
       "      <td>no</td>\n",
       "      <td>NaN</td>\n",
       "      <td>332</td>\n",
       "      <td>2</td>\n",
       "      <td>-1</td>\n",
       "      <td>0</td>\n",
       "      <td>NaN</td>\n",
       "    </tr>\n",
       "    <tr>\n",
       "      <th>4</th>\n",
       "      <td>2008-03-02</td>\n",
       "      <td>59</td>\n",
       "      <td>management</td>\n",
       "      <td>married</td>\n",
       "      <td>tertiary</td>\n",
       "      <td>no</td>\n",
       "      <td>315</td>\n",
       "      <td>no</td>\n",
       "      <td>no</td>\n",
       "      <td>cellular</td>\n",
       "      <td>591</td>\n",
       "      <td>1</td>\n",
       "      <td>176</td>\n",
       "      <td>2</td>\n",
       "      <td>failure</td>\n",
       "    </tr>\n",
       "    <tr>\n",
       "      <th>5</th>\n",
       "      <td>2010-11-20</td>\n",
       "      <td>44</td>\n",
       "      <td>services</td>\n",
       "      <td>married</td>\n",
       "      <td>secondary</td>\n",
       "      <td>no</td>\n",
       "      <td>-289</td>\n",
       "      <td>no</td>\n",
       "      <td>yes</td>\n",
       "      <td>cellular</td>\n",
       "      <td>487</td>\n",
       "      <td>1</td>\n",
       "      <td>118</td>\n",
       "      <td>1</td>\n",
       "      <td>other</td>\n",
       "    </tr>\n",
       "    <tr>\n",
       "      <th>6</th>\n",
       "      <td>2010-04-17</td>\n",
       "      <td>28</td>\n",
       "      <td>admin.</td>\n",
       "      <td>married</td>\n",
       "      <td>secondary</td>\n",
       "      <td>no</td>\n",
       "      <td>254</td>\n",
       "      <td>no</td>\n",
       "      <td>yes</td>\n",
       "      <td>cellular</td>\n",
       "      <td>333</td>\n",
       "      <td>3</td>\n",
       "      <td>-1</td>\n",
       "      <td>0</td>\n",
       "      <td>NaN</td>\n",
       "    </tr>\n",
       "    <tr>\n",
       "      <th>7</th>\n",
       "      <td>2010-08-18</td>\n",
       "      <td>42</td>\n",
       "      <td>management</td>\n",
       "      <td>divorced</td>\n",
       "      <td>tertiary</td>\n",
       "      <td>no</td>\n",
       "      <td>1064</td>\n",
       "      <td>no</td>\n",
       "      <td>no</td>\n",
       "      <td>cellular</td>\n",
       "      <td>101</td>\n",
       "      <td>2</td>\n",
       "      <td>-1</td>\n",
       "      <td>0</td>\n",
       "      <td>NaN</td>\n",
       "    </tr>\n",
       "    <tr>\n",
       "      <th>8</th>\n",
       "      <td>2010-05-26</td>\n",
       "      <td>31</td>\n",
       "      <td>blue-collar</td>\n",
       "      <td>single</td>\n",
       "      <td>secondary</td>\n",
       "      <td>no</td>\n",
       "      <td>3201</td>\n",
       "      <td>yes</td>\n",
       "      <td>no</td>\n",
       "      <td>NaN</td>\n",
       "      <td>96</td>\n",
       "      <td>5</td>\n",
       "      <td>-1</td>\n",
       "      <td>0</td>\n",
       "      <td>NaN</td>\n",
       "    </tr>\n",
       "    <tr>\n",
       "      <th>9</th>\n",
       "      <td>2009-08-21</td>\n",
       "      <td>48</td>\n",
       "      <td>blue-collar</td>\n",
       "      <td>married</td>\n",
       "      <td>primary</td>\n",
       "      <td>no</td>\n",
       "      <td>492</td>\n",
       "      <td>no</td>\n",
       "      <td>yes</td>\n",
       "      <td>cellular</td>\n",
       "      <td>139</td>\n",
       "      <td>2</td>\n",
       "      <td>-1</td>\n",
       "      <td>0</td>\n",
       "      <td>NaN</td>\n",
       "    </tr>\n",
       "  </tbody>\n",
       "</table>\n",
       "</div>"
      ],
      "text/plain": [
       "  last contact date  age          job   marital  education default  balance  \\\n",
       "0        2009-11-21   36   management    single   tertiary      no        7   \n",
       "1        2010-02-04   30   unemployed   married   tertiary      no     1067   \n",
       "2        2010-07-28   32  blue-collar    single  secondary      no       82   \n",
       "3        2010-06-09   38       admin.   married    primary      no     1487   \n",
       "4        2008-03-02   59   management   married   tertiary      no      315   \n",
       "5        2010-11-20   44     services   married  secondary      no     -289   \n",
       "6        2010-04-17   28       admin.   married  secondary      no      254   \n",
       "7        2010-08-18   42   management  divorced   tertiary      no     1064   \n",
       "8        2010-05-26   31  blue-collar    single  secondary      no     3201   \n",
       "9        2009-08-21   48  blue-collar   married    primary      no      492   \n",
       "\n",
       "  housing loan   contact  duration  campaign  pdays  previous poutcome  \n",
       "0      no   no       NaN        20         1     -1         0      NaN  \n",
       "1      no   no  cellular        78         2     -1         0      NaN  \n",
       "2     yes   no  cellular        86         4     -1         0      NaN  \n",
       "3      no   no       NaN       332         2     -1         0      NaN  \n",
       "4      no   no  cellular       591         1    176         2  failure  \n",
       "5      no  yes  cellular       487         1    118         1    other  \n",
       "6      no  yes  cellular       333         3     -1         0      NaN  \n",
       "7      no   no  cellular       101         2     -1         0      NaN  \n",
       "8     yes   no       NaN        96         5     -1         0      NaN  \n",
       "9      no  yes  cellular       139         2     -1         0      NaN  "
      ]
     },
     "execution_count": 4,
     "metadata": {},
     "output_type": "execute_result"
    }
   ],
   "source": [
    "#Display first 10 rows of the test Dataset\n",
    "test_df.head(n=10)"
   ]
  },
  {
   "cell_type": "code",
   "execution_count": 5,
   "id": "588b34e6",
   "metadata": {
    "execution": {
     "iopub.execute_input": "2024-11-22T02:59:01.637255Z",
     "iopub.status.busy": "2024-11-22T02:59:01.636838Z",
     "iopub.status.idle": "2024-11-22T02:59:01.683058Z",
     "shell.execute_reply": "2024-11-22T02:59:01.682039Z"
    },
    "papermill": {
     "duration": 0.061899,
     "end_time": "2024-11-22T02:59:01.685645",
     "exception": false,
     "start_time": "2024-11-22T02:59:01.623746",
     "status": "completed"
    },
    "tags": []
   },
   "outputs": [
    {
     "name": "stdout",
     "output_type": "stream",
     "text": [
      "<class 'pandas.core.frame.DataFrame'>\n",
      "RangeIndex: 39211 entries, 0 to 39210\n",
      "Data columns (total 16 columns):\n",
      " #   Column             Non-Null Count  Dtype \n",
      "---  ------             --------------  ----- \n",
      " 0   last contact date  39211 non-null  object\n",
      " 1   age                39211 non-null  int64 \n",
      " 2   job                38982 non-null  object\n",
      " 3   marital            39211 non-null  object\n",
      " 4   education          37744 non-null  object\n",
      " 5   default            39211 non-null  object\n",
      " 6   balance            39211 non-null  int64 \n",
      " 7   housing            39211 non-null  object\n",
      " 8   loan               39211 non-null  object\n",
      " 9   contact            28875 non-null  object\n",
      " 10  duration           39211 non-null  int64 \n",
      " 11  campaign           39211 non-null  int64 \n",
      " 12  pdays              39211 non-null  int64 \n",
      " 13  previous           39211 non-null  int64 \n",
      " 14  poutcome           9760 non-null   object\n",
      " 15  target             39211 non-null  object\n",
      "dtypes: int64(6), object(10)\n",
      "memory usage: 4.8+ MB\n"
     ]
    }
   ],
   "source": [
    "#Info about the Train Dataset\n",
    "train_df.info()"
   ]
  },
  {
   "cell_type": "code",
   "execution_count": 6,
   "id": "630c953a",
   "metadata": {
    "execution": {
     "iopub.execute_input": "2024-11-22T02:59:01.711310Z",
     "iopub.status.busy": "2024-11-22T02:59:01.710936Z",
     "iopub.status.idle": "2024-11-22T02:59:01.725730Z",
     "shell.execute_reply": "2024-11-22T02:59:01.724596Z"
    },
    "papermill": {
     "duration": 0.029853,
     "end_time": "2024-11-22T02:59:01.727803",
     "exception": false,
     "start_time": "2024-11-22T02:59:01.697950",
     "status": "completed"
    },
    "tags": []
   },
   "outputs": [
    {
     "name": "stdout",
     "output_type": "stream",
     "text": [
      "<class 'pandas.core.frame.DataFrame'>\n",
      "RangeIndex: 10000 entries, 0 to 9999\n",
      "Data columns (total 15 columns):\n",
      " #   Column             Non-Null Count  Dtype \n",
      "---  ------             --------------  ----- \n",
      " 0   last contact date  10000 non-null  object\n",
      " 1   age                10000 non-null  int64 \n",
      " 2   job                9941 non-null   object\n",
      " 3   marital            10000 non-null  object\n",
      " 4   education          9610 non-null   object\n",
      " 5   default            10000 non-null  object\n",
      " 6   balance            10000 non-null  int64 \n",
      " 7   housing            10000 non-null  object\n",
      " 8   loan               10000 non-null  object\n",
      " 9   contact            7316 non-null   object\n",
      " 10  duration           10000 non-null  int64 \n",
      " 11  campaign           10000 non-null  int64 \n",
      " 12  pdays              10000 non-null  int64 \n",
      " 13  previous           10000 non-null  int64 \n",
      " 14  poutcome           2492 non-null   object\n",
      "dtypes: int64(6), object(9)\n",
      "memory usage: 1.1+ MB\n"
     ]
    }
   ],
   "source": [
    "#Info about the Test Dataset\n",
    "test_df.info()"
   ]
  },
  {
   "cell_type": "code",
   "execution_count": 7,
   "id": "1bcbb7ae",
   "metadata": {
    "execution": {
     "iopub.execute_input": "2024-11-22T02:59:01.753687Z",
     "iopub.status.busy": "2024-11-22T02:59:01.753003Z",
     "iopub.status.idle": "2024-11-22T02:59:01.790555Z",
     "shell.execute_reply": "2024-11-22T02:59:01.789508Z"
    },
    "papermill": {
     "duration": 0.052698,
     "end_time": "2024-11-22T02:59:01.792671",
     "exception": false,
     "start_time": "2024-11-22T02:59:01.739973",
     "status": "completed"
    },
    "tags": []
   },
   "outputs": [
    {
     "data": {
      "text/html": [
       "<div>\n",
       "<style scoped>\n",
       "    .dataframe tbody tr th:only-of-type {\n",
       "        vertical-align: middle;\n",
       "    }\n",
       "\n",
       "    .dataframe tbody tr th {\n",
       "        vertical-align: top;\n",
       "    }\n",
       "\n",
       "    .dataframe thead th {\n",
       "        text-align: right;\n",
       "    }\n",
       "</style>\n",
       "<table border=\"1\" class=\"dataframe\">\n",
       "  <thead>\n",
       "    <tr style=\"text-align: right;\">\n",
       "      <th></th>\n",
       "      <th>age</th>\n",
       "      <th>balance</th>\n",
       "      <th>duration</th>\n",
       "      <th>campaign</th>\n",
       "      <th>pdays</th>\n",
       "      <th>previous</th>\n",
       "    </tr>\n",
       "  </thead>\n",
       "  <tbody>\n",
       "    <tr>\n",
       "      <th>count</th>\n",
       "      <td>39211.000000</td>\n",
       "      <td>39211.000000</td>\n",
       "      <td>39211.000000</td>\n",
       "      <td>39211.000000</td>\n",
       "      <td>39211.000000</td>\n",
       "      <td>39211.000000</td>\n",
       "    </tr>\n",
       "    <tr>\n",
       "      <th>mean</th>\n",
       "      <td>42.120247</td>\n",
       "      <td>5441.781719</td>\n",
       "      <td>439.062789</td>\n",
       "      <td>5.108770</td>\n",
       "      <td>72.256051</td>\n",
       "      <td>11.826171</td>\n",
       "    </tr>\n",
       "    <tr>\n",
       "      <th>std</th>\n",
       "      <td>12.709352</td>\n",
       "      <td>16365.292065</td>\n",
       "      <td>769.096291</td>\n",
       "      <td>9.890153</td>\n",
       "      <td>160.942593</td>\n",
       "      <td>44.140259</td>\n",
       "    </tr>\n",
       "    <tr>\n",
       "      <th>min</th>\n",
       "      <td>18.000000</td>\n",
       "      <td>-8019.000000</td>\n",
       "      <td>0.000000</td>\n",
       "      <td>1.000000</td>\n",
       "      <td>-1.000000</td>\n",
       "      <td>0.000000</td>\n",
       "    </tr>\n",
       "    <tr>\n",
       "      <th>25%</th>\n",
       "      <td>33.000000</td>\n",
       "      <td>98.000000</td>\n",
       "      <td>109.000000</td>\n",
       "      <td>1.000000</td>\n",
       "      <td>-1.000000</td>\n",
       "      <td>0.000000</td>\n",
       "    </tr>\n",
       "    <tr>\n",
       "      <th>50%</th>\n",
       "      <td>40.000000</td>\n",
       "      <td>549.000000</td>\n",
       "      <td>197.000000</td>\n",
       "      <td>2.000000</td>\n",
       "      <td>-1.000000</td>\n",
       "      <td>0.000000</td>\n",
       "    </tr>\n",
       "    <tr>\n",
       "      <th>75%</th>\n",
       "      <td>50.000000</td>\n",
       "      <td>2030.000000</td>\n",
       "      <td>380.000000</td>\n",
       "      <td>4.000000</td>\n",
       "      <td>-1.000000</td>\n",
       "      <td>0.000000</td>\n",
       "    </tr>\n",
       "    <tr>\n",
       "      <th>max</th>\n",
       "      <td>95.000000</td>\n",
       "      <td>102127.000000</td>\n",
       "      <td>4918.000000</td>\n",
       "      <td>63.000000</td>\n",
       "      <td>871.000000</td>\n",
       "      <td>275.000000</td>\n",
       "    </tr>\n",
       "  </tbody>\n",
       "</table>\n",
       "</div>"
      ],
      "text/plain": [
       "                age        balance      duration      campaign         pdays  \\\n",
       "count  39211.000000   39211.000000  39211.000000  39211.000000  39211.000000   \n",
       "mean      42.120247    5441.781719    439.062789      5.108770     72.256051   \n",
       "std       12.709352   16365.292065    769.096291      9.890153    160.942593   \n",
       "min       18.000000   -8019.000000      0.000000      1.000000     -1.000000   \n",
       "25%       33.000000      98.000000    109.000000      1.000000     -1.000000   \n",
       "50%       40.000000     549.000000    197.000000      2.000000     -1.000000   \n",
       "75%       50.000000    2030.000000    380.000000      4.000000     -1.000000   \n",
       "max       95.000000  102127.000000   4918.000000     63.000000    871.000000   \n",
       "\n",
       "           previous  \n",
       "count  39211.000000  \n",
       "mean      11.826171  \n",
       "std       44.140259  \n",
       "min        0.000000  \n",
       "25%        0.000000  \n",
       "50%        0.000000  \n",
       "75%        0.000000  \n",
       "max      275.000000  "
      ]
     },
     "execution_count": 7,
     "metadata": {},
     "output_type": "execute_result"
    }
   ],
   "source": [
    "#Descriptive Statistics of Train Dataset\n",
    "train_df.describe()"
   ]
  },
  {
   "cell_type": "code",
   "execution_count": 8,
   "id": "dd38958b",
   "metadata": {
    "execution": {
     "iopub.execute_input": "2024-11-22T02:59:01.819060Z",
     "iopub.status.busy": "2024-11-22T02:59:01.818340Z",
     "iopub.status.idle": "2024-11-22T02:59:01.844552Z",
     "shell.execute_reply": "2024-11-22T02:59:01.843500Z"
    },
    "papermill": {
     "duration": 0.041666,
     "end_time": "2024-11-22T02:59:01.846635",
     "exception": false,
     "start_time": "2024-11-22T02:59:01.804969",
     "status": "completed"
    },
    "tags": []
   },
   "outputs": [
    {
     "data": {
      "text/html": [
       "<div>\n",
       "<style scoped>\n",
       "    .dataframe tbody tr th:only-of-type {\n",
       "        vertical-align: middle;\n",
       "    }\n",
       "\n",
       "    .dataframe tbody tr th {\n",
       "        vertical-align: top;\n",
       "    }\n",
       "\n",
       "    .dataframe thead th {\n",
       "        text-align: right;\n",
       "    }\n",
       "</style>\n",
       "<table border=\"1\" class=\"dataframe\">\n",
       "  <thead>\n",
       "    <tr style=\"text-align: right;\">\n",
       "      <th></th>\n",
       "      <th>age</th>\n",
       "      <th>balance</th>\n",
       "      <th>duration</th>\n",
       "      <th>campaign</th>\n",
       "      <th>pdays</th>\n",
       "      <th>previous</th>\n",
       "    </tr>\n",
       "  </thead>\n",
       "  <tbody>\n",
       "    <tr>\n",
       "      <th>count</th>\n",
       "      <td>10000.000000</td>\n",
       "      <td>10000.000000</td>\n",
       "      <td>10000.000000</td>\n",
       "      <td>10000.000000</td>\n",
       "      <td>10000.000000</td>\n",
       "      <td>10000.000000</td>\n",
       "    </tr>\n",
       "    <tr>\n",
       "      <th>mean</th>\n",
       "      <td>42.261200</td>\n",
       "      <td>5328.789200</td>\n",
       "      <td>437.117700</td>\n",
       "      <td>5.159700</td>\n",
       "      <td>71.705700</td>\n",
       "      <td>12.028100</td>\n",
       "    </tr>\n",
       "    <tr>\n",
       "      <th>std</th>\n",
       "      <td>12.650137</td>\n",
       "      <td>15944.545194</td>\n",
       "      <td>761.232963</td>\n",
       "      <td>9.975928</td>\n",
       "      <td>160.374253</td>\n",
       "      <td>44.467155</td>\n",
       "    </tr>\n",
       "    <tr>\n",
       "      <th>min</th>\n",
       "      <td>18.000000</td>\n",
       "      <td>-3372.000000</td>\n",
       "      <td>0.000000</td>\n",
       "      <td>1.000000</td>\n",
       "      <td>-1.000000</td>\n",
       "      <td>0.000000</td>\n",
       "    </tr>\n",
       "    <tr>\n",
       "      <th>25%</th>\n",
       "      <td>33.000000</td>\n",
       "      <td>92.000000</td>\n",
       "      <td>108.000000</td>\n",
       "      <td>1.000000</td>\n",
       "      <td>-1.000000</td>\n",
       "      <td>0.000000</td>\n",
       "    </tr>\n",
       "    <tr>\n",
       "      <th>50%</th>\n",
       "      <td>40.000000</td>\n",
       "      <td>541.000000</td>\n",
       "      <td>196.000000</td>\n",
       "      <td>2.000000</td>\n",
       "      <td>-1.000000</td>\n",
       "      <td>0.000000</td>\n",
       "    </tr>\n",
       "    <tr>\n",
       "      <th>75%</th>\n",
       "      <td>50.000000</td>\n",
       "      <td>2051.000000</td>\n",
       "      <td>380.000000</td>\n",
       "      <td>4.000000</td>\n",
       "      <td>-1.000000</td>\n",
       "      <td>0.000000</td>\n",
       "    </tr>\n",
       "    <tr>\n",
       "      <th>max</th>\n",
       "      <td>94.000000</td>\n",
       "      <td>101418.000000</td>\n",
       "      <td>4909.000000</td>\n",
       "      <td>63.000000</td>\n",
       "      <td>871.000000</td>\n",
       "      <td>275.000000</td>\n",
       "    </tr>\n",
       "  </tbody>\n",
       "</table>\n",
       "</div>"
      ],
      "text/plain": [
       "                age        balance      duration      campaign         pdays  \\\n",
       "count  10000.000000   10000.000000  10000.000000  10000.000000  10000.000000   \n",
       "mean      42.261200    5328.789200    437.117700      5.159700     71.705700   \n",
       "std       12.650137   15944.545194    761.232963      9.975928    160.374253   \n",
       "min       18.000000   -3372.000000      0.000000      1.000000     -1.000000   \n",
       "25%       33.000000      92.000000    108.000000      1.000000     -1.000000   \n",
       "50%       40.000000     541.000000    196.000000      2.000000     -1.000000   \n",
       "75%       50.000000    2051.000000    380.000000      4.000000     -1.000000   \n",
       "max       94.000000  101418.000000   4909.000000     63.000000    871.000000   \n",
       "\n",
       "           previous  \n",
       "count  10000.000000  \n",
       "mean      12.028100  \n",
       "std       44.467155  \n",
       "min        0.000000  \n",
       "25%        0.000000  \n",
       "50%        0.000000  \n",
       "75%        0.000000  \n",
       "max      275.000000  "
      ]
     },
     "execution_count": 8,
     "metadata": {},
     "output_type": "execute_result"
    }
   ],
   "source": [
    "#Descriptive Statistics of Test Dataset\n",
    "test_df.describe()"
   ]
  },
  {
   "cell_type": "code",
   "execution_count": 9,
   "id": "3bb880cd",
   "metadata": {
    "execution": {
     "iopub.execute_input": "2024-11-22T02:59:01.872934Z",
     "iopub.status.busy": "2024-11-22T02:59:01.872521Z",
     "iopub.status.idle": "2024-11-22T02:59:01.901814Z",
     "shell.execute_reply": "2024-11-22T02:59:01.900738Z"
    },
    "papermill": {
     "duration": 0.044875,
     "end_time": "2024-11-22T02:59:01.903968",
     "exception": false,
     "start_time": "2024-11-22T02:59:01.859093",
     "status": "completed"
    },
    "tags": []
   },
   "outputs": [
    {
     "data": {
      "text/plain": [
       "last contact date    1013\n",
       "age                    78\n",
       "job                    11\n",
       "marital                 3\n",
       "education               3\n",
       "default                 2\n",
       "balance              9535\n",
       "housing                 2\n",
       "loan                    2\n",
       "contact                 2\n",
       "duration             3146\n",
       "campaign               63\n",
       "pdays                 865\n",
       "previous              276\n",
       "poutcome                3\n",
       "target                  2\n",
       "dtype: int64"
      ]
     },
     "execution_count": 9,
     "metadata": {},
     "output_type": "execute_result"
    }
   ],
   "source": [
    "#Total number of unique values in the train dataset\n",
    "train_df.nunique()"
   ]
  },
  {
   "cell_type": "code",
   "execution_count": 10,
   "id": "57848bd8",
   "metadata": {
    "execution": {
     "iopub.execute_input": "2024-11-22T02:59:01.930425Z",
     "iopub.status.busy": "2024-11-22T02:59:01.929979Z",
     "iopub.status.idle": "2024-11-22T02:59:01.944268Z",
     "shell.execute_reply": "2024-11-22T02:59:01.943247Z"
    },
    "papermill": {
     "duration": 0.02988,
     "end_time": "2024-11-22T02:59:01.946224",
     "exception": false,
     "start_time": "2024-11-22T02:59:01.916344",
     "status": "completed"
    },
    "tags": []
   },
   "outputs": [
    {
     "data": {
      "text/plain": [
       "last contact date     908\n",
       "age                    77\n",
       "job                    11\n",
       "marital                 3\n",
       "education               3\n",
       "default                 2\n",
       "balance              4384\n",
       "housing                 2\n",
       "loan                    2\n",
       "contact                 2\n",
       "duration             1664\n",
       "campaign               63\n",
       "pdays                 679\n",
       "previous              261\n",
       "poutcome                3\n",
       "dtype: int64"
      ]
     },
     "execution_count": 10,
     "metadata": {},
     "output_type": "execute_result"
    }
   ],
   "source": [
    "#Total number of unique values in the test dataset\n",
    "test_df.nunique()"
   ]
  },
  {
   "cell_type": "code",
   "execution_count": 11,
   "id": "e34138b2",
   "metadata": {
    "execution": {
     "iopub.execute_input": "2024-11-22T02:59:01.973046Z",
     "iopub.status.busy": "2024-11-22T02:59:01.972627Z",
     "iopub.status.idle": "2024-11-22T02:59:01.998033Z",
     "shell.execute_reply": "2024-11-22T02:59:01.996843Z"
    },
    "papermill": {
     "duration": 0.041358,
     "end_time": "2024-11-22T02:59:02.000189",
     "exception": false,
     "start_time": "2024-11-22T02:59:01.958831",
     "status": "completed"
    },
    "tags": []
   },
   "outputs": [
    {
     "name": "stdout",
     "output_type": "stream",
     "text": [
      "missing values :\n",
      " last contact date        0\n",
      "age                      0\n",
      "job                    229\n",
      "marital                  0\n",
      "education             1467\n",
      "default                  0\n",
      "balance                  0\n",
      "housing                  0\n",
      "loan                     0\n",
      "contact              10336\n",
      "duration                 0\n",
      "campaign                 0\n",
      "pdays                    0\n",
      "previous                 0\n",
      "poutcome             29451\n",
      "target                   0\n",
      "dtype: int64\n"
     ]
    }
   ],
   "source": [
    "# Check for missing values for training dataset\n",
    "missing_values_train = train_df.isnull().sum()\n",
    "print('missing values :\\n' ,missing_values_train)"
   ]
  },
  {
   "cell_type": "code",
   "execution_count": 12,
   "id": "160f64d0",
   "metadata": {
    "execution": {
     "iopub.execute_input": "2024-11-22T02:59:02.026834Z",
     "iopub.status.busy": "2024-11-22T02:59:02.026474Z",
     "iopub.status.idle": "2024-11-22T02:59:02.037971Z",
     "shell.execute_reply": "2024-11-22T02:59:02.036780Z"
    },
    "papermill": {
     "duration": 0.027096,
     "end_time": "2024-11-22T02:59:02.039857",
     "exception": false,
     "start_time": "2024-11-22T02:59:02.012761",
     "status": "completed"
    },
    "tags": []
   },
   "outputs": [
    {
     "name": "stdout",
     "output_type": "stream",
     "text": [
      "missing values :\n",
      " last contact date       0\n",
      "age                     0\n",
      "job                    59\n",
      "marital                 0\n",
      "education             390\n",
      "default                 0\n",
      "balance                 0\n",
      "housing                 0\n",
      "loan                    0\n",
      "contact              2684\n",
      "duration                0\n",
      "campaign                0\n",
      "pdays                   0\n",
      "previous                0\n",
      "poutcome             7508\n",
      "dtype: int64\n"
     ]
    }
   ],
   "source": [
    "# Check for missing values for test dataset\n",
    "missing_values_test = test_df.isnull().sum()\n",
    "print('missing values :\\n' ,missing_values_test)"
   ]
  },
  {
   "cell_type": "code",
   "execution_count": 13,
   "id": "cd059de2",
   "metadata": {
    "execution": {
     "iopub.execute_input": "2024-11-22T02:59:02.068371Z",
     "iopub.status.busy": "2024-11-22T02:59:02.067997Z",
     "iopub.status.idle": "2024-11-22T02:59:02.086907Z",
     "shell.execute_reply": "2024-11-22T02:59:02.085892Z"
    },
    "papermill": {
     "duration": 0.036239,
     "end_time": "2024-11-22T02:59:02.089243",
     "exception": false,
     "start_time": "2024-11-22T02:59:02.053004",
     "status": "completed"
    },
    "tags": []
   },
   "outputs": [
    {
     "name": "stdout",
     "output_type": "stream",
     "text": [
      "\n",
      "Unique values in job: ['blue-collar' 'technician' 'admin.' 'entrepreneur' 'unemployed'\n",
      " 'management' 'services' 'student' 'self-employed' 'retired' 'housemaid'\n",
      " nan]\n",
      "\n",
      "Unique values in marital: ['married' 'single' 'divorced']\n",
      "\n",
      "Unique values in education: ['secondary' 'tertiary' 'primary' nan]\n",
      "\n",
      "Unique values in default: ['no' 'yes']\n",
      "\n",
      "Unique values in housing: ['yes' 'no']\n",
      "\n",
      "Unique values in loan: ['no' 'yes']\n",
      "\n",
      "Unique values in contact: ['cellular' 'telephone' nan]\n",
      "\n",
      "Unique values in poutcome: ['other' nan 'failure' 'success']\n"
     ]
    }
   ],
   "source": [
    "# Check the unique values in categorical columns\n",
    "categorical_columns = ['job', 'marital', 'education', 'default', 'housing', 'loan', 'contact', 'poutcome']\n",
    "for column in categorical_columns:\n",
    "    print(f\"\\nUnique values in {column}:\", train_df[column].unique())"
   ]
  },
  {
   "cell_type": "markdown",
   "id": "96b76548",
   "metadata": {
    "papermill": {
     "duration": 0.012561,
     "end_time": "2024-11-22T02:59:02.114753",
     "exception": false,
     "start_time": "2024-11-22T02:59:02.102192",
     "status": "completed"
    },
    "tags": []
   },
   "source": [
    "## **2.1 Data Visualization**"
   ]
  },
  {
   "cell_type": "code",
   "execution_count": 14,
   "id": "32a8bde2",
   "metadata": {
    "execution": {
     "iopub.execute_input": "2024-11-22T02:59:02.142303Z",
     "iopub.status.busy": "2024-11-22T02:59:02.141616Z",
     "iopub.status.idle": "2024-11-22T02:59:02.431132Z",
     "shell.execute_reply": "2024-11-22T02:59:02.430139Z"
    },
    "papermill": {
     "duration": 0.306082,
     "end_time": "2024-11-22T02:59:02.433566",
     "exception": false,
     "start_time": "2024-11-22T02:59:02.127484",
     "status": "completed"
    },
    "tags": []
   },
   "outputs": [
    {
     "data": {
      "image/png": "[encoded data removed]",
      "text/plain": [
       "<Figure size 640x480 with 1 Axes>"
      ]
     },
     "metadata": {},
     "output_type": "display_data"
    }
   ],
   "source": [
    "#Distribution of Target Variable\n",
    "sns.countplot(x='target', data=train_df)\n",
    "plt.title('Distribution of Target Variable')\n",
    "plt.show()"
   ]
  },
  {
   "cell_type": "code",
   "execution_count": 15,
   "id": "f4089d93",
   "metadata": {
    "execution": {
     "iopub.execute_input": "2024-11-22T02:59:02.462198Z",
     "iopub.status.busy": "2024-11-22T02:59:02.461312Z",
     "iopub.status.idle": "2024-11-22T02:59:02.472032Z",
     "shell.execute_reply": "2024-11-22T02:59:02.470988Z"
    },
    "papermill": {
     "duration": 0.027124,
     "end_time": "2024-11-22T02:59:02.474217",
     "exception": false,
     "start_time": "2024-11-22T02:59:02.447093",
     "status": "completed"
    },
    "tags": []
   },
   "outputs": [
    {
     "data": {
      "text/plain": [
       "target\n",
       "no     33384\n",
       "yes     5827\n",
       "Name: count, dtype: int64"
      ]
     },
     "execution_count": 15,
     "metadata": {},
     "output_type": "execute_result"
    }
   ],
   "source": [
    "train_df['target'].value_counts()"
   ]
  },
  {
   "cell_type": "code",
   "execution_count": 16,
   "id": "71c48028",
   "metadata": {
    "execution": {
     "iopub.execute_input": "2024-11-22T02:59:02.516283Z",
     "iopub.status.busy": "2024-11-22T02:59:02.514920Z",
     "iopub.status.idle": "2024-11-22T02:59:03.990032Z",
     "shell.execute_reply": "2024-11-22T02:59:03.988945Z"
    },
    "papermill": {
     "duration": 1.499004,
     "end_time": "2024-11-22T02:59:03.993084",
     "exception": false,
     "start_time": "2024-11-22T02:59:02.494080",
     "status": "completed"
    },
    "tags": []
   },
   "outputs": [
    {
     "name": "stdout",
     "output_type": "stream",
     "text": [
      "\n",
      "Distribution of Numerical Features:\n"
     ]
    },
    {
     "data": {
      "image/png": "[encoded data removed]",
      "text/plain": [
       "<Figure size 1000x1000 with 15 Axes>"
      ]
     },
     "metadata": {},
     "output_type": "display_data"
    }
   ],
   "source": [
    "# Distribution of numerical features\n",
    "numeric_features = train_df.select_dtypes(exclude=[\"object\"]).columns\n",
    "\n",
    "print(\"\\nDistribution of Numerical Features:\")\n",
    "train_df[numeric_features].describe()\n",
    "\n",
    "\n",
    "# Plot histograms for numerical features\n",
    "train_df[numeric_features].hist(bins=15, figsize=(10, 10), layout=(5, 3))\n",
    "plt.tight_layout()\n",
    "plt.show()"
   ]
  },
  {
   "cell_type": "code",
   "execution_count": 17,
   "id": "d7bf04ef",
   "metadata": {
    "execution": {
     "iopub.execute_input": "2024-11-22T02:59:04.029214Z",
     "iopub.status.busy": "2024-11-22T02:59:04.028801Z",
     "iopub.status.idle": "2024-11-22T02:59:04.038112Z",
     "shell.execute_reply": "2024-11-22T02:59:04.036859Z"
    },
    "papermill": {
     "duration": 0.027405,
     "end_time": "2024-11-22T02:59:04.040338",
     "exception": false,
     "start_time": "2024-11-22T02:59:04.012933",
     "status": "completed"
    },
    "tags": []
   },
   "outputs": [
    {
     "name": "stdout",
     "output_type": "stream",
     "text": [
      "\n",
      "Range of Numerical Features:\n",
      "age: 18 - 95 (Range: 77)\n",
      "balance: -8019 - 102127 (Range: 110146)\n",
      "duration: 0 - 4918 (Range: 4918)\n",
      "campaign: 1 - 63 (Range: 62)\n",
      "pdays: -1 - 871 (Range: 872)\n",
      "previous: 0 - 275 (Range: 275)\n"
     ]
    }
   ],
   "source": [
    "print(\"\\nRange of Numerical Features:\")\n",
    "for feature in numeric_features:\n",
    "    feature_range = train_df[feature].max() - train_df[feature].min()\n",
    "    print(f\"{feature}: {train_df[feature].min()} - {train_df[feature].max()} (Range: {feature_range})\")"
   ]
  },
  {
   "cell_type": "code",
   "execution_count": 18,
   "id": "145609d3",
   "metadata": {
    "execution": {
     "iopub.execute_input": "2024-11-22T02:59:04.078296Z",
     "iopub.status.busy": "2024-11-22T02:59:04.077322Z",
     "iopub.status.idle": "2024-11-22T02:59:04.520673Z",
     "shell.execute_reply": "2024-11-22T02:59:04.519496Z"
    },
    "papermill": {
     "duration": 0.469055,
     "end_time": "2024-11-22T02:59:04.523936",
     "exception": false,
     "start_time": "2024-11-22T02:59:04.054881",
     "status": "completed"
    },
    "tags": []
   },
   "outputs": [
    {
     "data": {
      "image/png": "[encoded data removed]",
      "text/plain": [
       "<Figure size 900x700 with 2 Axes>"
      ]
     },
     "metadata": {},
     "output_type": "display_data"
    }
   ],
   "source": [
    "# Getting all numerical columns\n",
    "numerical_columns = train_df.select_dtypes(include=['number'])\n",
    "\n",
    "# Calculate correlation matrix\n",
    "correlation_matrix = numerical_columns.corr()\n",
    "\n",
    "# Plotting the heatmap with a color map like 'coolwarm' for a better color range\n",
    "plt.figure(figsize=(9, 7))\n",
    "sns.heatmap(correlation_matrix, annot=True, cmap='coolwarm', linewidths=0.5, vmin=-1, vmax=1)\n",
    "plt.title(\"Heatmap for Numerical Data\")\n",
    "plt.show()"
   ]
  },
  {
   "cell_type": "code",
   "execution_count": 19,
   "id": "5830e68b",
   "metadata": {
    "execution": {
     "iopub.execute_input": "2024-11-22T02:59:04.561110Z",
     "iopub.status.busy": "2024-11-22T02:59:04.560707Z",
     "iopub.status.idle": "2024-11-22T02:59:05.321702Z",
     "shell.execute_reply": "2024-11-22T02:59:05.320544Z"
    },
    "papermill": {
     "duration": 0.779983,
     "end_time": "2024-11-22T02:59:05.324345",
     "exception": false,
     "start_time": "2024-11-22T02:59:04.544362",
     "status": "completed"
    },
    "tags": []
   },
   "outputs": [
    {
     "data": {
      "image/png": "[encoded data removed]",
      "text/plain": [
       "<Figure size 1000x500 with 1 Axes>"
      ]
     },
     "metadata": {},
     "output_type": "display_data"
    }
   ],
   "source": [
    "#The distribution of the categorical variable 'Job'\n",
    "plt.figure(figsize=(10, 5))\n",
    "sns.set_style(\"whitegrid\")\n",
    "\n",
    "# Create a count plot for the 'job' feature with color palette applied correctly\n",
    "sns.countplot(data=train_df, x='job', hue='job', palette='Set2', dodge=False)\n",
    "plt.title('Distribution of Job Types')\n",
    "plt.xlabel('Job Type')\n",
    "plt.ylabel('Count')\n",
    "plt.xticks(rotation=45) \n",
    "plt.show()"
   ]
  },
  {
   "cell_type": "code",
   "execution_count": 20,
   "id": "7c13675e",
   "metadata": {
    "execution": {
     "iopub.execute_input": "2024-11-22T02:59:05.359689Z",
     "iopub.status.busy": "2024-11-22T02:59:05.358745Z",
     "iopub.status.idle": "2024-11-22T02:59:05.371783Z",
     "shell.execute_reply": "2024-11-22T02:59:05.370777Z"
    },
    "papermill": {
     "duration": 0.033793,
     "end_time": "2024-11-22T02:59:05.374641",
     "exception": false,
     "start_time": "2024-11-22T02:59:05.340848",
     "status": "completed"
    },
    "tags": []
   },
   "outputs": [
    {
     "name": "stdout",
     "output_type": "stream",
     "text": [
      "\n",
      "Job Type Counts:\n",
      "blue-collar: 7776\n",
      "management: 7462\n",
      "technician: 6078\n",
      "admin.: 4116\n",
      "services: 3325\n",
      "self-employed: 1862\n",
      "retired: 1824\n",
      "entrepreneur: 1805\n",
      "unemployed: 1685\n",
      "housemaid: 1656\n",
      "student: 1393\n"
     ]
    }
   ],
   "source": [
    "# Calculate the count of each unique job type\n",
    "job_counts = train_df['job'].value_counts()\n",
    "\n",
    "# Print the job counts in text format\n",
    "print(\"\\nJob Type Counts:\")\n",
    "for job, count in job_counts.items():\n",
    "    print(f\"{job}: {count}\")\n"
   ]
  },
  {
   "cell_type": "code",
   "execution_count": 21,
   "id": "adc5c0f7",
   "metadata": {
    "execution": {
     "iopub.execute_input": "2024-11-22T02:59:05.415384Z",
     "iopub.status.busy": "2024-11-22T02:59:05.414410Z",
     "iopub.status.idle": "2024-11-22T02:59:05.781951Z",
     "shell.execute_reply": "2024-11-22T02:59:05.780837Z"
    },
    "papermill": {
     "duration": 0.387421,
     "end_time": "2024-11-22T02:59:05.783978",
     "exception": false,
     "start_time": "2024-11-22T02:59:05.396557",
     "status": "completed"
    },
    "tags": []
   },
   "outputs": [
    {
     "data": {
      "image/png": "[encoded data removed]",
      "text/plain": [
       "<Figure size 600x400 with 1 Axes>"
      ]
     },
     "metadata": {},
     "output_type": "display_data"
    }
   ],
   "source": [
    "#Distribution of Education Levels\n",
    "plt.figure(figsize=(6, 4))\n",
    "sns.set_style(\"whitegrid\")\n",
    "\n",
    "# Create a count plot for the 'education' feature with a different color palette\n",
    "sns.countplot(data=train_df, x='education', hue='education', palette='Set3', dodge=False)\n",
    "plt.title('Distribution of Education Levels')\n",
    "plt.xlabel('Education Level')\n",
    "plt.ylabel('Count')\n",
    "plt.xticks(rotation=45)  \n",
    "plt.show()"
   ]
  },
  {
   "cell_type": "code",
   "execution_count": 22,
   "id": "cb2723f4",
   "metadata": {
    "execution": {
     "iopub.execute_input": "2024-11-22T02:59:05.818715Z",
     "iopub.status.busy": "2024-11-22T02:59:05.817949Z",
     "iopub.status.idle": "2024-11-22T02:59:05.827328Z",
     "shell.execute_reply": "2024-11-22T02:59:05.826202Z"
    },
    "papermill": {
     "duration": 0.028917,
     "end_time": "2024-11-22T02:59:05.829525",
     "exception": false,
     "start_time": "2024-11-22T02:59:05.800608",
     "status": "completed"
    },
    "tags": []
   },
   "outputs": [
    {
     "name": "stdout",
     "output_type": "stream",
     "text": [
      "\n",
      "Education Level Counts:\n",
      "secondary: 19584\n",
      "tertiary: 11615\n",
      "primary: 6545\n"
     ]
    }
   ],
   "source": [
    "# Calculate the count of each unique Education Level\n",
    "education_counts = train_df['education'].value_counts()\n",
    "\n",
    "# Print the job counts in text format\n",
    "print(\"\\nEducation Level Counts:\")\n",
    "for education, count in education_counts.items():\n",
    "    print(f\"{education}: {count}\")"
   ]
  },
  {
   "cell_type": "code",
   "execution_count": 23,
   "id": "4d48cd78",
   "metadata": {
    "execution": {
     "iopub.execute_input": "2024-11-22T02:59:05.865670Z",
     "iopub.status.busy": "2024-11-22T02:59:05.864958Z",
     "iopub.status.idle": "2024-11-22T02:59:06.182847Z",
     "shell.execute_reply": "2024-11-22T02:59:06.181865Z"
    },
    "papermill": {
     "duration": 0.338505,
     "end_time": "2024-11-22T02:59:06.185031",
     "exception": false,
     "start_time": "2024-11-22T02:59:05.846526",
     "status": "completed"
    },
    "tags": []
   },
   "outputs": [
    {
     "data": {
      "image/png": "[encoded data removed]",
      "text/plain": [
       "<Figure size 600x400 with 1 Axes>"
      ]
     },
     "metadata": {},
     "output_type": "display_data"
    }
   ],
   "source": [
    "#Distribution of Marital Status\n",
    "plt.figure(figsize=(6, 4))\n",
    "sns.set_style(\"whitegrid\")\n",
    "\n",
    "# Create a count plot for the 'marital' feature with a different color palette\n",
    "sns.countplot(data=train_df, x='marital', hue='marital', palette='Pastel1', dodge=False)\n",
    "plt.title('Distribution of Marital Status')\n",
    "plt.xlabel('Marital Status')\n",
    "plt.ylabel('Count')\n",
    "plt.xticks(rotation=45)  \n",
    "plt.show()"
   ]
  },
  {
   "cell_type": "code",
   "execution_count": 24,
   "id": "05b06d79",
   "metadata": {
    "execution": {
     "iopub.execute_input": "2024-11-22T02:59:06.220146Z",
     "iopub.status.busy": "2024-11-22T02:59:06.219755Z",
     "iopub.status.idle": "2024-11-22T02:59:06.228688Z",
     "shell.execute_reply": "2024-11-22T02:59:06.227514Z"
    },
    "papermill": {
     "duration": 0.029221,
     "end_time": "2024-11-22T02:59:06.230856",
     "exception": false,
     "start_time": "2024-11-22T02:59:06.201635",
     "status": "completed"
    },
    "tags": []
   },
   "outputs": [
    {
     "name": "stdout",
     "output_type": "stream",
     "text": [
      "\n",
      "Marital Status Counts:\n",
      "married: 22691\n",
      "single: 11250\n",
      "divorced: 5270\n"
     ]
    }
   ],
   "source": [
    "# Calculate the count of each unique Marital Status\n",
    "marital_counts = train_df['marital'].value_counts()\n",
    "\n",
    "# Print the job counts in text format\n",
    "print(\"\\nMarital Status Counts:\")\n",
    "for marital, count in marital_counts.items():\n",
    "    print(f\"{marital}: {count}\")"
   ]
  },
  {
   "cell_type": "code",
   "execution_count": 25,
   "id": "bffbed17",
   "metadata": {
    "execution": {
     "iopub.execute_input": "2024-11-22T02:59:06.266959Z",
     "iopub.status.busy": "2024-11-22T02:59:06.266554Z",
     "iopub.status.idle": "2024-11-22T02:59:06.494261Z",
     "shell.execute_reply": "2024-11-22T02:59:06.493200Z"
    },
    "papermill": {
     "duration": 0.248018,
     "end_time": "2024-11-22T02:59:06.496305",
     "exception": false,
     "start_time": "2024-11-22T02:59:06.248287",
     "status": "completed"
    },
    "tags": []
   },
   "outputs": [
    {
     "data": {
      "image/png": "[encoded data removed]",
      "text/plain": [
       "<Figure size 600x400 with 1 Axes>"
      ]
     },
     "metadata": {},
     "output_type": "display_data"
    }
   ],
   "source": [
    "# Distribution of Contact Communication Type\n",
    "plt.figure(figsize=(6, 4))\n",
    "sns.set_style(\"whitegrid\")\n",
    "\n",
    "# Create a count plot for the 'contact' feature with a different color palette\n",
    "sns.countplot(data=train_df, x='contact', hue='contact', palette='Set1', dodge=False)\n",
    "plt.title('Distribution of Contact Communication Type')\n",
    "plt.xlabel('Contact Type')\n",
    "plt.ylabel('Count')\n",
    "plt.xticks(rotation=45)  # Rotate x labels for better readability\n",
    "plt.show()"
   ]
  },
  {
   "cell_type": "code",
   "execution_count": 26,
   "id": "7c90e66d",
   "metadata": {
    "execution": {
     "iopub.execute_input": "2024-11-22T02:59:06.538164Z",
     "iopub.status.busy": "2024-11-22T02:59:06.537468Z",
     "iopub.status.idle": "2024-11-22T02:59:06.545843Z",
     "shell.execute_reply": "2024-11-22T02:59:06.544894Z"
    },
    "papermill": {
     "duration": 0.033308,
     "end_time": "2024-11-22T02:59:06.548546",
     "exception": false,
     "start_time": "2024-11-22T02:59:06.515238",
     "status": "completed"
    },
    "tags": []
   },
   "outputs": [
    {
     "name": "stdout",
     "output_type": "stream",
     "text": [
      "\n",
      "Contact Type Counts:\n",
      "cellular: 25030\n",
      "telephone: 3845\n"
     ]
    }
   ],
   "source": [
    "# Calculate the count of each unique Marital Status\n",
    "contact_counts = train_df['contact'].value_counts()\n",
    "\n",
    "# Print the job counts in text format\n",
    "print(\"\\nContact Type Counts:\")\n",
    "for contact, count in contact_counts.items():\n",
    "    print(f\"{contact}: {count}\")"
   ]
  },
  {
   "cell_type": "code",
   "execution_count": 27,
   "id": "965b2d88",
   "metadata": {
    "execution": {
     "iopub.execute_input": "2024-11-22T02:59:06.584865Z",
     "iopub.status.busy": "2024-11-22T02:59:06.584508Z",
     "iopub.status.idle": "2024-11-22T02:59:06.774755Z",
     "shell.execute_reply": "2024-11-22T02:59:06.773631Z"
    },
    "papermill": {
     "duration": 0.211045,
     "end_time": "2024-11-22T02:59:06.776921",
     "exception": false,
     "start_time": "2024-11-22T02:59:06.565876",
     "status": "completed"
    },
    "tags": []
   },
   "outputs": [
    {
     "data": {
      "image/png": "[encoded data removed]",
      "text/plain": [
       "<Figure size 600x400 with 1 Axes>"
      ]
     },
     "metadata": {},
     "output_type": "display_data"
    }
   ],
   "source": [
    "#Distribution of Previous Outcome of Marketing Campaign\n",
    "plt.figure(figsize=(6, 4))\n",
    "sns.set_style(\"whitegrid\")\n",
    "\n",
    "# Create a count plot for the 'poutcome' feature with a different color palette\n",
    "sns.countplot(data=train_df, x='poutcome', palette='Set3')\n",
    "plt.title('Distribution of Previous Outcome of Marketing Campaign')\n",
    "plt.xlabel('Previous Outcome')\n",
    "plt.ylabel('Count')\n",
    "plt.xticks(rotation=45)  # Rotate x labels for better readability\n",
    "plt.show()"
   ]
  },
  {
   "cell_type": "code",
   "execution_count": 28,
   "id": "94fe5549",
   "metadata": {
    "execution": {
     "iopub.execute_input": "2024-11-22T02:59:06.814274Z",
     "iopub.status.busy": "2024-11-22T02:59:06.813909Z",
     "iopub.status.idle": "2024-11-22T02:59:06.821986Z",
     "shell.execute_reply": "2024-11-22T02:59:06.820989Z"
    },
    "papermill": {
     "duration": 0.029228,
     "end_time": "2024-11-22T02:59:06.824062",
     "exception": false,
     "start_time": "2024-11-22T02:59:06.794834",
     "status": "completed"
    },
    "tags": []
   },
   "outputs": [
    {
     "name": "stdout",
     "output_type": "stream",
     "text": [
      "\n",
      "poutcome Counts:\n",
      "failure: 4949\n",
      "other: 2560\n",
      "success: 2251\n"
     ]
    }
   ],
   "source": [
    "# Calculate the count of each unique Marital Status\n",
    "poutcome_counts = train_df['poutcome'].value_counts()\n",
    "\n",
    "# Print the job counts in text format\n",
    "print(\"\\npoutcome Counts:\")\n",
    "for poutcome, count in poutcome_counts.items():\n",
    "    print(f\"{poutcome}: {count}\")"
   ]
  },
  {
   "cell_type": "markdown",
   "id": "5d54a4a0",
   "metadata": {
    "papermill": {
     "duration": 0.018141,
     "end_time": "2024-11-22T02:59:06.860253",
     "exception": false,
     "start_time": "2024-11-22T02:59:06.842112",
     "status": "completed"
    },
    "tags": []
   },
   "source": [
    "# **2.2 Summary**\n",
    "\n",
    "## **Dataset Overview**\n",
    "The dataset pertains to the direct marketing campaigns of a banking institution. These marketing campaigns were carried out through phone calls, and multiple contacts were often needed to assess whether a client would subscribe to a term deposit (binary outcome: \"yes\" or \"no\").\n",
    "\n",
    "## **Columns Description**\n",
    "\n",
    "1. **Last Contact Date**: The date when the client was last contacted during the campaign.\n",
    "\n",
    "2. **Age**: The age of the client.\n",
    "\n",
    "3. **Job**: The type of job the client holds.\n",
    "\n",
    "4. **Marital Status**: The marital status of the client.\n",
    "\n",
    "5. **Education**: The client's highest education level.\n",
    "\n",
    "6. **Default**: Whether the client has credit in default.\n",
    "\n",
    "7. **Balance**: The average yearly balance of the client in euros.\n",
    "\n",
    "8. **Housing**: Whether the client has a housing loan .\n",
    "\n",
    "9. **Loan**: Whether the client has a personal loan.\n",
    "   \n",
    "10. **Contact**: The communication type used to contact the client.\n",
    "\n",
    "11. **Duration**: The duration of the last contact, in seconds.\n",
    "\n",
    "12. **Campaign**: The number of contacts performed during the current marketing campaign for this client (including the last contact).\n",
    "\n",
    "13. **Pdays**: The number of days since the client was last contacted in a previous campaign. -1 means the client was not previously contacted.\n",
    "\n",
    "14. **Previous**: The number of contacts performed before the current campaign for this client.\n",
    "\n",
    "15. **Poutcome**: The outcome of the previous marketing campaign.\n",
    "\n",
    "16. **Target**: The target variable indicating whether the client subscribed to a term deposit.\n",
    "\n",
    "## **Missing Values in Training Dataset**\n",
    "There are missing values in several categorical features:\n",
    "- **Job**: 229 \n",
    "- **Education**: 1467\n",
    "- **Contact**: 10336\n",
    "- **poutcomes**: 29451\n",
    "\n",
    "## **Numerical Features**\n",
    "- **Age**:\n",
    "  * The age of the client ranges from 18 to 95, with an average age of about 42 years.\n",
    "  * Most clients are middle aged, with few younger and older individuals.\n",
    "- **Balance**:\n",
    "  * The Balance of the client ranges from -8019 to 102,127 Euros, with an mean of 5442.\n",
    "  * The feature is skewed with a few negative values.The larger range suggests a significant variance.\n",
    "- **Duration**:\n",
    "  * The range varies from 0 seconds to 4918 seconds.\n",
    "  * Duration is likely a strong predictor for the target variable, as longer calls may indicate more engaged clients.\n",
    "- **Campaign**:\n",
    "  * The average call duration for the campaign per client was 5.11 and the range 1 to 63.\n",
    "  * The number of contacts per client varies significantly.There may be clients who were contacted frequently due to previous rejections.\n",
    "- **Pdays**:\n",
    "  * The no. of days passed after the client was last contacted from previous campaigns varies from -1(means not at all contacted) to 871 days.\n",
    "- **Previous**:\n",
    "  * The no. of contacts performed before this campaign and for this client varies from 0 to 275.\n",
    "\n",
    "## **Categorical Features**\n",
    "- **Job**: The most common job type among clients is \"blue-collar,\" indicating a large proportion of blue-collar workers within this dataset.\n",
    "\n",
    "- **Marital**: The majority of clients are \"married,\" followed by \"single\" and \"divorced\" clients.\n",
    "\n",
    "- **Education**: \"Secondary\" education is the most common level, followed by \"tertiary.\"\n",
    "\n",
    "- **Contact**: \"Cellular\" is the most commonly used contact method, followed by \"telephone.\"\n",
    "\n",
    "## **Target Variable**\n",
    "The target variable exhibits an **imbalanced distribution**, with the majority of responses being \"**no**\" (33,384 instances, **85.14%**) and the minority of responses being \"**yes**\" (5,827 instances, **14.86%**). The **Imbalance Ratio (IR)** is approximately **5.73**."
   ]
  },
  {
   "cell_type": "markdown",
   "id": "0990dd47",
   "metadata": {
    "papermill": {
     "duration": 0.017694,
     "end_time": "2024-11-22T02:59:06.896031",
     "exception": false,
     "start_time": "2024-11-22T02:59:06.878337",
     "status": "completed"
    },
    "tags": []
   },
   "source": [
    "# **4. Data Preprocessing**"
   ]
  },
  {
   "cell_type": "markdown",
   "id": "d1735d4a",
   "metadata": {
    "papermill": {
     "duration": 0.017913,
     "end_time": "2024-11-22T02:59:06.931983",
     "exception": false,
     "start_time": "2024-11-22T02:59:06.914070",
     "status": "completed"
    },
    "tags": []
   },
   "source": [
    "## 4.1 Separate I/O"
   ]
  },
  {
   "cell_type": "code",
   "execution_count": 29,
   "id": "7a31d49b",
   "metadata": {
    "execution": {
     "iopub.execute_input": "2024-11-22T02:59:06.971533Z",
     "iopub.status.busy": "2024-11-22T02:59:06.971098Z",
     "iopub.status.idle": "2024-11-22T02:59:06.983877Z",
     "shell.execute_reply": "2024-11-22T02:59:06.982984Z"
    },
    "papermill": {
     "duration": 0.035017,
     "end_time": "2024-11-22T02:59:06.985921",
     "exception": false,
     "start_time": "2024-11-22T02:59:06.950904",
     "status": "completed"
    },
    "tags": []
   },
   "outputs": [],
   "source": [
    "# Separating the input features and the target variable\n",
    "features = train_df.iloc[:, :-1]\n",
    "target = train_df.iloc[:, -1]"
   ]
  },
  {
   "cell_type": "markdown",
   "id": "ada51744",
   "metadata": {
    "papermill": {
     "duration": 0.017679,
     "end_time": "2024-11-22T02:59:07.021725",
     "exception": false,
     "start_time": "2024-11-22T02:59:07.004046",
     "status": "completed"
    },
    "tags": []
   },
   "source": [
    "## 4.2 Handle Missing Values"
   ]
  },
  {
   "cell_type": "code",
   "execution_count": 30,
   "id": "2ab2cb7e",
   "metadata": {
    "execution": {
     "iopub.execute_input": "2024-11-22T02:59:07.058904Z",
     "iopub.status.busy": "2024-11-22T02:59:07.058481Z",
     "iopub.status.idle": "2024-11-22T02:59:07.082362Z",
     "shell.execute_reply": "2024-11-22T02:59:07.081574Z"
    },
    "papermill": {
     "duration": 0.045104,
     "end_time": "2024-11-22T02:59:07.084593",
     "exception": false,
     "start_time": "2024-11-22T02:59:07.039489",
     "status": "completed"
    },
    "tags": []
   },
   "outputs": [],
   "source": [
    "# Handle missing values\n",
    "def handle_nan(df):\n",
    "    # List of categorical columns with missing values\n",
    "    categorical_features = ['job', 'education', 'contact', 'poutcome']\n",
    "\n",
    "    # Fill missing values in categorical columns with 'Unknown'\n",
    "    for feature in categorical_features:\n",
    "        if feature in df.columns:  # Use df.columns to check if the column exists\n",
    "            df[feature] = df[feature].fillna('Unknown')\n",
    "\n",
    "    # Replace -1 with 0 in 'pdays' column (since -1 means the client was not contacted)\n",
    "    if 'pdays' in df.columns:\n",
    "        df['pdays'] = df['pdays'].replace(-1, 0)  # Change -1 to 0\n",
    "\n",
    "    return df\n",
    "\n",
    "# Apply the function to both training and test dataset\n",
    "features = handle_nan(features)\n",
    "test_df = handle_nan(test_df)"
   ]
  },
  {
   "cell_type": "code",
   "execution_count": 31,
   "id": "d67d666e",
   "metadata": {
    "execution": {
     "iopub.execute_input": "2024-11-22T02:59:07.122098Z",
     "iopub.status.busy": "2024-11-22T02:59:07.121719Z",
     "iopub.status.idle": "2024-11-22T02:59:07.152682Z",
     "shell.execute_reply": "2024-11-22T02:59:07.151652Z"
    },
    "papermill": {
     "duration": 0.05223,
     "end_time": "2024-11-22T02:59:07.154740",
     "exception": false,
     "start_time": "2024-11-22T02:59:07.102510",
     "status": "completed"
    },
    "tags": []
   },
   "outputs": [
    {
     "data": {
      "text/plain": [
       "(last contact date    0\n",
       " age                  0\n",
       " job                  0\n",
       " marital              0\n",
       " education            0\n",
       " default              0\n",
       " balance              0\n",
       " housing              0\n",
       " loan                 0\n",
       " contact              0\n",
       " duration             0\n",
       " campaign             0\n",
       " pdays                0\n",
       " previous             0\n",
       " poutcome             0\n",
       " dtype: int64,\n",
       " last contact date    0\n",
       " age                  0\n",
       " job                  0\n",
       " marital              0\n",
       " education            0\n",
       " default              0\n",
       " balance              0\n",
       " housing              0\n",
       " loan                 0\n",
       " contact              0\n",
       " duration             0\n",
       " campaign             0\n",
       " pdays                0\n",
       " previous             0\n",
       " poutcome             0\n",
       " dtype: int64)"
      ]
     },
     "execution_count": 31,
     "metadata": {},
     "output_type": "execute_result"
    }
   ],
   "source": [
    "#Checking if any NaN values exists\n",
    "features.isnull().sum(), test_df.isnull().sum()"
   ]
  },
  {
   "cell_type": "markdown",
   "id": "17fdb795",
   "metadata": {
    "papermill": {
     "duration": 0.018494,
     "end_time": "2024-11-22T02:59:07.191270",
     "exception": false,
     "start_time": "2024-11-22T02:59:07.172776",
     "status": "completed"
    },
    "tags": []
   },
   "source": [
    "## 4.3 Feature Extraction"
   ]
  },
  {
   "cell_type": "code",
   "execution_count": 32,
   "id": "5d92772b",
   "metadata": {
    "execution": {
     "iopub.execute_input": "2024-11-22T02:59:07.228629Z",
     "iopub.status.busy": "2024-11-22T02:59:07.227725Z",
     "iopub.status.idle": "2024-11-22T02:59:07.270195Z",
     "shell.execute_reply": "2024-11-22T02:59:07.269157Z"
    },
    "papermill": {
     "duration": 0.063776,
     "end_time": "2024-11-22T02:59:07.272572",
     "exception": false,
     "start_time": "2024-11-22T02:59:07.208796",
     "status": "completed"
    },
    "tags": []
   },
   "outputs": [],
   "source": [
    "def extract_date_features(df, date_column):\n",
    "    # Ensure the date column is in datetime format\n",
    "    df[date_column] = pd.to_datetime(df[date_column], errors='coerce')\n",
    "\n",
    "    # Extract day, month, and year into new columns\n",
    "    df['last_contact_day'] = df[date_column].dt.day\n",
    "    df['last_contact_month'] = df[date_column].dt.month\n",
    "    df['last_contact_year'] = df[date_column].dt.year\n",
    "\n",
    "    # Drop the original 'last contact date' column\n",
    "    df = df.drop(columns=[date_column])\n",
    "\n",
    "    return df\n",
    "\n",
    "# Apply the function to your dataframe\n",
    "features = extract_date_features(features, 'last contact date')\n",
    "test_df = extract_date_features(test_df, 'last contact date')"
   ]
  },
  {
   "cell_type": "code",
   "execution_count": 33,
   "id": "e6870cd9",
   "metadata": {
    "execution": {
     "iopub.execute_input": "2024-11-22T02:59:07.310621Z",
     "iopub.status.busy": "2024-11-22T02:59:07.309884Z",
     "iopub.status.idle": "2024-11-22T02:59:09.455288Z",
     "shell.execute_reply": "2024-11-22T02:59:09.454237Z"
    },
    "papermill": {
     "duration": 2.167641,
     "end_time": "2024-11-22T02:59:09.458018",
     "exception": false,
     "start_time": "2024-11-22T02:59:07.290377",
     "status": "completed"
    },
    "tags": []
   },
   "outputs": [
    {
     "name": "stdout",
     "output_type": "stream",
     "text": [
      "\n",
      "Distribution of Numerical Features:\n"
     ]
    },
    {
     "data": {
      "image/png": "[encoded data removed]",
      "text/plain": [
       "<Figure size 1000x800 with 9 Axes>"
      ]
     },
     "metadata": {},
     "output_type": "display_data"
    }
   ],
   "source": [
    "# Select the numeric columns\n",
    "numeric_features = features.select_dtypes(include=['int64', 'int32']).columns\n",
    "\n",
    "# Print descriptive statistics\n",
    "print(\"\\nDistribution of Numerical Features:\")\n",
    "\n",
    "# Create a color palette from seaborn\n",
    "colors = sns.color_palette(\"coolwarm\", len(numeric_features))\n",
    "\n",
    "# Plot histograms for numerical features\n",
    "fig, axes = plt.subplots(nrows=3, ncols=3, figsize=(10, 8))\n",
    "axes = axes.flatten()\n",
    "\n",
    "for i, column in enumerate(numeric_features):\n",
    "    features[column].hist(bins=15, color=colors[i], ax=axes[i])  # Adding color for each histogram\n",
    "    axes[i].set_title(f'{column} Histogram')\n",
    "    axes[i].set_xlabel(column)\n",
    "    axes[i].set_ylabel('Frequency')\n",
    "\n",
    "\n",
    "plt.tight_layout()\n",
    "plt.show()"
   ]
  },
  {
   "cell_type": "markdown",
   "id": "ac7c04bb",
   "metadata": {
    "papermill": {
     "duration": 0.019848,
     "end_time": "2024-11-22T02:59:09.498006",
     "exception": false,
     "start_time": "2024-11-22T02:59:09.478158",
     "status": "completed"
    },
    "tags": []
   },
   "source": [
    "## 4.4 Pipelines"
   ]
  },
  {
   "cell_type": "code",
   "execution_count": 34,
   "id": "8a7a60a7",
   "metadata": {
    "execution": {
     "iopub.execute_input": "2024-11-22T02:59:09.540996Z",
     "iopub.status.busy": "2024-11-22T02:59:09.540281Z",
     "iopub.status.idle": "2024-11-22T02:59:09.554327Z",
     "shell.execute_reply": "2024-11-22T02:59:09.553498Z"
    },
    "papermill": {
     "duration": 0.038676,
     "end_time": "2024-11-22T02:59:09.556487",
     "exception": false,
     "start_time": "2024-11-22T02:59:09.517811",
     "status": "completed"
    },
    "tags": []
   },
   "outputs": [],
   "source": [
    "#Preprocessing Pipeline for Categorical features\n",
    "categorical_features = features.select_dtypes(include=['object']).columns\n",
    "categorical_transformer = Pipeline(steps=[\n",
    "    ('imputer', SimpleImputer(strategy='constant', fill_value='missing')),\n",
    "    ('onehot', OneHotEncoder(handle_unknown='ignore'))\n",
    "])"
   ]
  },
  {
   "cell_type": "code",
   "execution_count": 35,
   "id": "cc97257b",
   "metadata": {
    "execution": {
     "iopub.execute_input": "2024-11-22T02:59:09.598287Z",
     "iopub.status.busy": "2024-11-22T02:59:09.597360Z",
     "iopub.status.idle": "2024-11-22T02:59:09.605097Z",
     "shell.execute_reply": "2024-11-22T02:59:09.604215Z"
    },
    "papermill": {
     "duration": 0.030891,
     "end_time": "2024-11-22T02:59:09.607139",
     "exception": false,
     "start_time": "2024-11-22T02:59:09.576248",
     "status": "completed"
    },
    "tags": []
   },
   "outputs": [],
   "source": [
    "# Preprocessing Pipeline for Numerical features\n",
    "numerical_features = features.select_dtypes(include=['int64', 'int32']).columns\n",
    "numerical_transformer = Pipeline(steps=[\n",
    "    ('scaler', StandardScaler())  # Scaling the features to have mean 0 and variance 1\n",
    "])"
   ]
  },
  {
   "cell_type": "code",
   "execution_count": 36,
   "id": "b4e84dd1",
   "metadata": {
    "execution": {
     "iopub.execute_input": "2024-11-22T02:59:09.648081Z",
     "iopub.status.busy": "2024-11-22T02:59:09.647694Z",
     "iopub.status.idle": "2024-11-22T02:59:09.652625Z",
     "shell.execute_reply": "2024-11-22T02:59:09.651629Z"
    },
    "papermill": {
     "duration": 0.027843,
     "end_time": "2024-11-22T02:59:09.654674",
     "exception": false,
     "start_time": "2024-11-22T02:59:09.626831",
     "status": "completed"
    },
    "tags": []
   },
   "outputs": [],
   "source": [
    "# Combine both transformers into a ColumnTransformer\n",
    "preprocessor = ColumnTransformer(\n",
    "    transformers=[\n",
    "        ('num', numerical_transformer, numerical_features),\n",
    "        ('cat', categorical_transformer, categorical_features)\n",
    "    ])"
   ]
  },
  {
   "cell_type": "code",
   "execution_count": 37,
   "id": "0aedf366",
   "metadata": {
    "execution": {
     "iopub.execute_input": "2024-11-22T02:59:09.698034Z",
     "iopub.status.busy": "2024-11-22T02:59:09.697612Z",
     "iopub.status.idle": "2024-11-22T02:59:09.709527Z",
     "shell.execute_reply": "2024-11-22T02:59:09.708453Z"
    },
    "papermill": {
     "duration": 0.036761,
     "end_time": "2024-11-22T02:59:09.711560",
     "exception": false,
     "start_time": "2024-11-22T02:59:09.674799",
     "status": "completed"
    },
    "tags": []
   },
   "outputs": [],
   "source": [
    "# Encode the target variable\n",
    "label_encoder = LabelEncoder()\n",
    "target_encoded = label_encoder.fit_transform(target)"
   ]
  },
  {
   "cell_type": "markdown",
   "id": "bfedcf5b",
   "metadata": {
    "papermill": {
     "duration": 0.019862,
     "end_time": "2024-11-22T02:59:09.751662",
     "exception": false,
     "start_time": "2024-11-22T02:59:09.731800",
     "status": "completed"
    },
    "tags": []
   },
   "source": [
    "# **5. Training The Model**"
   ]
  },
  {
   "cell_type": "code",
   "execution_count": 38,
   "id": "9f6babb2",
   "metadata": {
    "execution": {
     "iopub.execute_input": "2024-11-22T02:59:09.793986Z",
     "iopub.status.busy": "2024-11-22T02:59:09.793549Z",
     "iopub.status.idle": "2024-11-22T02:59:09.812719Z",
     "shell.execute_reply": "2024-11-22T02:59:09.811852Z"
    },
    "papermill": {
     "duration": 0.043135,
     "end_time": "2024-11-22T02:59:09.815162",
     "exception": false,
     "start_time": "2024-11-22T02:59:09.772027",
     "status": "completed"
    },
    "tags": []
   },
   "outputs": [],
   "source": [
    "# Split the data into training and validation sets\n",
    "features_train, features_val, target_train, target_val = train_test_split(features, target_encoded, test_size=0.2, random_state=42)"
   ]
  },
  {
   "cell_type": "markdown",
   "id": "b3902c74",
   "metadata": {
    "papermill": {
     "duration": 0.020022,
     "end_time": "2024-11-22T02:59:09.855081",
     "exception": false,
     "start_time": "2024-11-22T02:59:09.835059",
     "status": "completed"
    },
    "tags": []
   },
   "source": [
    "## **5.1 Dummy Classifier**"
   ]
  },
  {
   "cell_type": "code",
   "execution_count": 39,
   "id": "70664b02",
   "metadata": {
    "execution": {
     "iopub.execute_input": "2024-11-22T02:59:09.897965Z",
     "iopub.status.busy": "2024-11-22T02:59:09.897184Z",
     "iopub.status.idle": "2024-11-22T02:59:10.718516Z",
     "shell.execute_reply": "2024-11-22T02:59:10.717263Z"
    },
    "papermill": {
     "duration": 0.845518,
     "end_time": "2024-11-22T02:59:10.720760",
     "exception": false,
     "start_time": "2024-11-22T02:59:09.875242",
     "status": "completed"
    },
    "tags": []
   },
   "outputs": [
    {
     "name": "stdout",
     "output_type": "stream",
     "text": [
      "Dummy Classifier Model\n",
      "Validation F1 Score (Macro Average): 0.45865543898398675\n",
      "Cross-Validation F1 Score (Macro Average): 0.46016831029375804\n",
      "Classification Report:\n",
      "------------------------------\n",
      "              precision    recall  f1-score   support\n",
      "\n",
      "           0       0.85      1.00      0.92      6645\n",
      "           1       0.00      0.00      0.00      1198\n",
      "\n",
      "    accuracy                           0.85      7843\n",
      "   macro avg       0.42      0.50      0.46      7843\n",
      "weighted avg       0.72      0.85      0.78      7843\n",
      "\n"
     ]
    }
   ],
   "source": [
    "# Assigning of the model\n",
    "dummy_model = Pipeline(steps=[('preprocessor', preprocessor),\n",
    "                              ('classifier', DummyClassifier(strategy='most_frequent', random_state=42))])\n",
    "# Fit the model\n",
    "dummy_model.fit(features_train, target_train)\n",
    "\n",
    "# Predict on the validation set\n",
    "target_val_pred_dummy = dummy_model.predict(features_val)\n",
    "\n",
    "# Calculate F1 Score (macro average)\n",
    "f1_score_dummy = f1_score(target_val, target_val_pred_dummy, average='macro')\n",
    "\n",
    "# Cross-validation score\n",
    "cv_scores_dummy = cross_val_score(dummy_model, features_train, target_train, cv=5, scoring='f1_macro')\n",
    "mean_cv_score_dummy = cv_scores_dummy.mean()\n",
    "\n",
    "#Variable for storing classification report\n",
    "report_dummy = classification_report(target_val, target_val_pred_dummy, zero_division=0)\n",
    "\n",
    "print(\"Dummy Classifier Model\")\n",
    "print(f\"Validation F1 Score (Macro Average): {f1_score_dummy}\")\n",
    "print(f\"Cross-Validation F1 Score (Macro Average): {mean_cv_score_dummy}\")\n",
    "print(f\"Classification Report:\\n{'-'*30}\\n{report_dummy}\")"
   ]
  },
  {
   "cell_type": "markdown",
   "id": "555da572",
   "metadata": {
    "papermill": {
     "duration": 0.019971,
     "end_time": "2024-11-22T02:59:10.760904",
     "exception": false,
     "start_time": "2024-11-22T02:59:10.740933",
     "status": "completed"
    },
    "tags": []
   },
   "source": [
    "## **5.2 Decision Tree Classifier**"
   ]
  },
  {
   "cell_type": "code",
   "execution_count": 40,
   "id": "d3e6315e",
   "metadata": {
    "execution": {
     "iopub.execute_input": "2024-11-22T02:59:10.803208Z",
     "iopub.status.busy": "2024-11-22T02:59:10.802834Z",
     "iopub.status.idle": "2024-11-22T02:59:13.119225Z",
     "shell.execute_reply": "2024-11-22T02:59:13.118192Z"
    },
    "papermill": {
     "duration": 2.340189,
     "end_time": "2024-11-22T02:59:13.121531",
     "exception": false,
     "start_time": "2024-11-22T02:59:10.781342",
     "status": "completed"
    },
    "tags": []
   },
   "outputs": [
    {
     "name": "stdout",
     "output_type": "stream",
     "text": [
      "Decision Tree Classifier Model\n",
      "Validation F1 Score (Macro Average): 0.6923283452442058\n",
      "Cross-Validation F1 Score (Macro Average): 0.6875027314800949\n",
      "Classification Report:\n",
      "------------------------------\n",
      "              precision    recall  f1-score   support\n",
      "\n",
      "           0       0.90      0.91      0.91      6645\n",
      "           1       0.49      0.47      0.48      1198\n",
      "\n",
      "    accuracy                           0.84      7843\n",
      "   macro avg       0.70      0.69      0.69      7843\n",
      "weighted avg       0.84      0.84      0.84      7843\n",
      "\n"
     ]
    }
   ],
   "source": [
    "# Assigning the Decision Tree Classifier model\n",
    "model_dt = Pipeline(steps=[('preprocessor', preprocessor),\n",
    "                            ('classifier', DecisionTreeClassifier(random_state=42))])\n",
    "\n",
    "# Fit the model\n",
    "model_dt.fit(features_train, target_train)\n",
    "\n",
    "# Predict on the validation set\n",
    "target_val_pred_dt = model_dt.predict(features_val)\n",
    "\n",
    "# Calculate F1 Score (macro average)\n",
    "f1_score_dt = f1_score(target_val, target_val_pred_dt, average='macro')\n",
    "\n",
    "# Cross-validation score\n",
    "cv_scores_dt = cross_val_score(model_dt, features_train, target_train, cv=5, scoring='f1_macro')\n",
    "mean_cv_score_dt = cv_scores_dt.mean()\n",
    "\n",
    "#Variable for storing classification report\n",
    "report_dt = classification_report(target_val, target_val_pred_dt, zero_division=0)\n",
    "\n",
    "# Output the results\n",
    "print(\"Decision Tree Classifier Model\")\n",
    "print(f\"Validation F1 Score (Macro Average): {f1_score_dt}\")\n",
    "print(f\"Cross-Validation F1 Score (Macro Average): {mean_cv_score_dt}\")\n",
    "print(f\"Classification Report:\\n{'-'*30}\\n{report_dt}\")"
   ]
  },
  {
   "cell_type": "markdown",
   "id": "7b03209e",
   "metadata": {
    "papermill": {
     "duration": 0.01976,
     "end_time": "2024-11-22T02:59:13.161343",
     "exception": false,
     "start_time": "2024-11-22T02:59:13.141583",
     "status": "completed"
    },
    "tags": []
   },
   "source": [
    "## **5.3 Gradient Boosting Classifier**"
   ]
  },
  {
   "cell_type": "code",
   "execution_count": 41,
   "id": "1c339aa9",
   "metadata": {
    "execution": {
     "iopub.execute_input": "2024-11-22T02:59:13.203056Z",
     "iopub.status.busy": "2024-11-22T02:59:13.202673Z",
     "iopub.status.idle": "2024-11-22T02:59:48.052936Z",
     "shell.execute_reply": "2024-11-22T02:59:48.051865Z"
    },
    "papermill": {
     "duration": 34.894149,
     "end_time": "2024-11-22T02:59:48.075843",
     "exception": false,
     "start_time": "2024-11-22T02:59:13.181694",
     "status": "completed"
    },
    "tags": []
   },
   "outputs": [
    {
     "name": "stdout",
     "output_type": "stream",
     "text": [
      "Gradient Boosting Classifier Model\n",
      "Validation F1 Score (Macro Average): 0.7070848328313145\n",
      "Cross-Validation F1 Score (Macro Average): 0.7090809909741326\n",
      "Classification Report:\n",
      "------------------------------\n",
      "              precision    recall  f1-score   support\n",
      "\n",
      "           0       0.90      0.95      0.92      6645\n",
      "           1       0.59      0.42      0.49      1198\n",
      "\n",
      "    accuracy                           0.87      7843\n",
      "   macro avg       0.75      0.68      0.71      7843\n",
      "weighted avg       0.85      0.87      0.86      7843\n",
      "\n"
     ]
    }
   ],
   "source": [
    "# Assigning the Gradient Boosting Classifier model within a pipeline\n",
    "model_gb = Pipeline(steps=[('preprocessor', preprocessor),\n",
    "                           ('classifier', GradientBoostingClassifier(random_state=42))])\n",
    "\n",
    "# Fit the model\n",
    "model_gb.fit(features_train, target_train)\n",
    "\n",
    "# Predict on the validation set\n",
    "target_val_pred_gb = model_gb.predict(features_val)\n",
    "\n",
    "# Calculate F1 Score (macro average)\n",
    "f1_score_gb = f1_score(target_val, target_val_pred_gb, average='macro')\n",
    "\n",
    "# Cross-validation score\n",
    "cv_scores_gb = cross_val_score(model_gb, features_train, target_train, cv=5, scoring='f1_macro')\n",
    "mean_cv_score_gb = cv_scores_gb.mean()\n",
    "\n",
    "#Variable for storing classification report\n",
    "report_gb = classification_report(target_val, target_val_pred_gb, zero_division=0)\n",
    "\n",
    "# Output the results\n",
    "print(\"Gradient Boosting Classifier Model\")\n",
    "print(f\"Validation F1 Score (Macro Average): {f1_score_gb}\")\n",
    "print(f\"Cross-Validation F1 Score (Macro Average): {mean_cv_score_gb}\")\n",
    "print(f\"Classification Report:\\n{'-'*30}\\n{report_gb}\")"
   ]
  },
  {
   "cell_type": "markdown",
   "id": "aa5d8605",
   "metadata": {
    "papermill": {
     "duration": 0.020371,
     "end_time": "2024-11-22T02:59:48.116289",
     "exception": false,
     "start_time": "2024-11-22T02:59:48.095918",
     "status": "completed"
    },
    "tags": []
   },
   "source": [
    "## **5.4 Extreme Gradient Boosting Classifier**"
   ]
  },
  {
   "cell_type": "code",
   "execution_count": 42,
   "id": "90fc2aca",
   "metadata": {
    "execution": {
     "iopub.execute_input": "2024-11-22T02:59:48.158610Z",
     "iopub.status.busy": "2024-11-22T02:59:48.158174Z",
     "iopub.status.idle": "2024-11-22T02:59:50.896193Z",
     "shell.execute_reply": "2024-11-22T02:59:50.894586Z"
    },
    "papermill": {
     "duration": 2.761754,
     "end_time": "2024-11-22T02:59:50.898377",
     "exception": false,
     "start_time": "2024-11-22T02:59:48.136623",
     "status": "completed"
    },
    "tags": []
   },
   "outputs": [
    {
     "name": "stdout",
     "output_type": "stream",
     "text": [
      "Extreme Gradient Boosting (XGBoost) Classifier Model\n",
      "Validation F1 Score (Macro Average): 0.7286179832078559\n",
      "Cross-Validation F1 Score (Macro Average): 0.7297525218794579\n",
      "Classification Report:\n",
      "------------------------------\n",
      "              precision    recall  f1-score   support\n",
      "\n",
      "           0       0.91      0.94      0.92      6645\n",
      "           1       0.59      0.48      0.53      1198\n",
      "\n",
      "    accuracy                           0.87      7843\n",
      "   macro avg       0.75      0.71      0.73      7843\n",
      "weighted avg       0.86      0.87      0.86      7843\n",
      "\n"
     ]
    }
   ],
   "source": [
    "# Assigning the XGBoost Classifier model within a pipeline\n",
    "model_xgb = Pipeline(steps=[('preprocessor', preprocessor),\n",
    "                            ('classifier', XGBClassifier(eval_metric='logloss', random_state=42))])\n",
    "\n",
    "# Fit the model\n",
    "model_xgb.fit(features_train, target_train)\n",
    "\n",
    "# Predict on the validation set\n",
    "target_val_pred_xgb = model_xgb.predict(features_val)\n",
    "\n",
    "# Calculate F1 Score (macro average)\n",
    "f1_score_xgb = f1_score(target_val, target_val_pred_xgb, average='macro')\n",
    "\n",
    "# Cross-validation score\n",
    "cv_scores_xgb = cross_val_score(model_xgb, features_train, target_train, cv=5, scoring='f1_macro')\n",
    "mean_cv_score_xgb = cv_scores_xgb.mean()\n",
    "\n",
    "#Variable for storing classification report\n",
    "report_xgb = classification_report(target_val, target_val_pred_xgb, zero_division=0)\n",
    "\n",
    "# Output the results\n",
    "print(\"Extreme Gradient Boosting (XGBoost) Classifier Model\")\n",
    "print(f\"Validation F1 Score (Macro Average): {f1_score_xgb}\")\n",
    "print(f\"Cross-Validation F1 Score (Macro Average): {mean_cv_score_xgb}\")\n",
    "print(f\"Classification Report:\\n{'-'*30}\\n{report_xgb}\")"
   ]
  },
  {
   "cell_type": "markdown",
   "id": "606d033d",
   "metadata": {
    "papermill": {
     "duration": 0.019884,
     "end_time": "2024-11-22T02:59:50.938523",
     "exception": false,
     "start_time": "2024-11-22T02:59:50.918639",
     "status": "completed"
    },
    "tags": []
   },
   "source": [
    "## **5.5 Light Gradient Boosting Classifier**"
   ]
  },
  {
   "cell_type": "code",
   "execution_count": 43,
   "id": "a68e3baa",
   "metadata": {
    "execution": {
     "iopub.execute_input": "2024-11-22T02:59:50.981848Z",
     "iopub.status.busy": "2024-11-22T02:59:50.980681Z",
     "iopub.status.idle": "2024-11-22T02:59:54.508454Z",
     "shell.execute_reply": "2024-11-22T02:59:54.506972Z"
    },
    "papermill": {
     "duration": 3.551525,
     "end_time": "2024-11-22T02:59:54.510652",
     "exception": false,
     "start_time": "2024-11-22T02:59:50.959127",
     "status": "completed"
    },
    "tags": []
   },
   "outputs": [
    {
     "name": "stdout",
     "output_type": "stream",
     "text": [
      "Light Gradient Boosting Machine (LightGBM) Classifier Model\n",
      "Validation F1 Score (Macro Average): 0.7395152499651036\n",
      "Cross-Validation F1 Score (Macro Average): 0.7329335350846605\n",
      "Classification Report:\n",
      "------------------------------\n",
      "              precision    recall  f1-score   support\n",
      "\n",
      "           0       0.91      0.94      0.93      6645\n",
      "           1       0.60      0.51      0.55      1198\n",
      "\n",
      "    accuracy                           0.87      7843\n",
      "   macro avg       0.76      0.72      0.74      7843\n",
      "weighted avg       0.87      0.87      0.87      7843\n",
      "\n"
     ]
    }
   ],
   "source": [
    "# Assigning the LightGBM Classifier model within a pipeline\n",
    "model_lgbm = Pipeline(steps=[('preprocessor', preprocessor),\n",
    "                             ('classifier', LGBMClassifier(random_state=42, verbose=-1))])\n",
    "\n",
    "# Fit the model\n",
    "model_lgbm.fit(features_train, target_train)\n",
    "\n",
    "# Predict on the validation set\n",
    "target_val_pred_lgbm = model_lgbm.predict(features_val)\n",
    "\n",
    "# Calculate F1 Score (macro average)\n",
    "f1_score_lgbm = f1_score(target_val, target_val_pred_lgbm, average='macro')\n",
    "\n",
    "# Cross-validation score\n",
    "cv_scores_lgbm = cross_val_score(model_lgbm, features_train, target_train, cv=5, scoring='f1_macro')\n",
    "mean_cv_score_lgbm = cv_scores_lgbm.mean()\n",
    "\n",
    "#Variable for storing classification report\n",
    "report_lgbm = classification_report(target_val, target_val_pred_lgbm, zero_division=0)\n",
    "\n",
    "# Output the results\n",
    "print(\"Light Gradient Boosting Machine (LightGBM) Classifier Model\")\n",
    "print(f\"Validation F1 Score (Macro Average): {f1_score_lgbm}\")\n",
    "print(f\"Cross-Validation F1 Score (Macro Average): {mean_cv_score_lgbm}\")\n",
    "print(f\"Classification Report:\\n{'-'*30}\\n{report_lgbm}\")"
   ]
  },
  {
   "cell_type": "markdown",
   "id": "288f2fc3",
   "metadata": {
    "papermill": {
     "duration": 0.019727,
     "end_time": "2024-11-22T02:59:54.550419",
     "exception": false,
     "start_time": "2024-11-22T02:59:54.530692",
     "status": "completed"
    },
    "tags": []
   },
   "source": [
    "# **6. Hyperparameter Tunning**"
   ]
  },
  {
   "cell_type": "markdown",
   "id": "9f567b11",
   "metadata": {
    "papermill": {
     "duration": 0.019721,
     "end_time": "2024-11-22T02:59:54.590180",
     "exception": false,
     "start_time": "2024-11-22T02:59:54.570459",
     "status": "completed"
    },
    "tags": []
   },
   "source": [
    "## **6.1 Hyperparameter Tuned LGM Classifier**"
   ]
  },
  {
   "cell_type": "code",
   "execution_count": 44,
   "id": "5af119ef",
   "metadata": {
    "execution": {
     "iopub.execute_input": "2024-11-22T02:59:54.631745Z",
     "iopub.status.busy": "2024-11-22T02:59:54.631344Z",
     "iopub.status.idle": "2024-11-22T03:01:14.537587Z",
     "shell.execute_reply": "2024-11-22T03:01:14.536522Z"
    },
    "papermill": {
     "duration": 79.950062,
     "end_time": "2024-11-22T03:01:14.560257",
     "exception": false,
     "start_time": "2024-11-22T02:59:54.610195",
     "status": "completed"
    },
    "tags": []
   },
   "outputs": [
    {
     "name": "stdout",
     "output_type": "stream",
     "text": [
      "Hyperparameter Tuned LightGBM Classifier Model with SMOTE\n",
      "Best Parameters: {'classifier__learning_rate': 0.1, 'classifier__max_depth': 6, 'classifier__n_estimators': 100}\n",
      "Best CV Score during tuning: 0.7548126786392877\n",
      "Validation F1 Score after tuning: 0.75873833513707\n",
      "Cross-Validation Score after tuning: 0.7548126786392877\n",
      "Classification Report:\n",
      "------------------------------\n",
      "              precision    recall  f1-score   support\n",
      "\n",
      "           0       0.91      0.94      0.93      6645\n",
      "           1       0.60      0.51      0.55      1198\n",
      "\n",
      "    accuracy                           0.87      7843\n",
      "   macro avg       0.76      0.72      0.74      7843\n",
      "weighted avg       0.87      0.87      0.87      7843\n",
      "\n"
     ]
    }
   ],
   "source": [
    "# Define the model pipeline\n",
    "model_lgbm_ht = ImbPipeline(steps=[\n",
    "    ('preprocessor', preprocessor),\n",
    "    ('smote', SMOTE(random_state=42)),\n",
    "    ('classifier', LGBMClassifier(random_state=42, verbose=-1))])\n",
    "\n",
    "# Parameter grid for hyperparameter tuning\n",
    "param_grid_lgbm_ht = {\n",
    "    'classifier__n_estimators': [100, 200],\n",
    "    'classifier__max_depth': [3, 6, 9],\n",
    "    'classifier__learning_rate': [0.01, 0.1, 0.2]\n",
    "}\n",
    "\n",
    "# GridSearchCV for hyperparameter tuning\n",
    "grid_search_lgbm_ht = GridSearchCV(model_lgbm_ht, param_grid_lgbm_ht, cv=3, n_jobs=-1, scoring='f1_macro', verbose=-1)\n",
    "grid_search_lgbm_ht.fit(features_train, target_train)\n",
    "\n",
    "# Best parameters and score from GridSearchCV\n",
    "best_params_lgbm_ht = grid_search_lgbm_ht.best_params_\n",
    "best_score_lgbm_ht = grid_search_lgbm_ht.best_score_\n",
    "\n",
    "# Evaluate the model on the validation set\n",
    "target_val_pred_lgbm_ht = grid_search_lgbm_ht.predict(features_val)\n",
    "val_f1_score_lgbm_ht = f1_score(target_val, target_val_pred_lgbm_ht, average='macro')\n",
    "\n",
    "# Calculate cross-validation score on the training set\n",
    "cv_scores_lgbm_ht = cross_val_score(grid_search_lgbm_ht.best_estimator_, features_train, target_train, cv=3, scoring='f1_macro')\n",
    "mean_cv_score_lgbm_ht = cv_scores_lgbm_ht.mean()\n",
    "\n",
    "#Variable for storing classification report\n",
    "report_lgbm_ht = classification_report(target_val, target_val_pred_lgbm, zero_division=0)\n",
    "\n",
    "# Output the results\n",
    "print(\"Hyperparameter Tuned LightGBM Classifier Model with SMOTE\")\n",
    "print(\"Best Parameters:\", best_params_lgbm_ht)\n",
    "print(\"Best CV Score during tuning:\", best_score_lgbm_ht)\n",
    "print(\"Validation F1 Score after tuning:\", val_f1_score_lgbm_ht)\n",
    "print(\"Cross-Validation Score after tuning:\", mean_cv_score_lgbm_ht)\n",
    "print(f\"Classification Report:\\n{'-'*30}\\n{report_lgbm_ht}\")"
   ]
  },
  {
   "cell_type": "markdown",
   "id": "84e9744e",
   "metadata": {
    "papermill": {
     "duration": 0.01984,
     "end_time": "2024-11-22T03:01:14.600206",
     "exception": false,
     "start_time": "2024-11-22T03:01:14.580366",
     "status": "completed"
    },
    "tags": []
   },
   "source": [
    "## **6.2 Hyperparameter Tuned XGB Classifier**"
   ]
  },
  {
   "cell_type": "code",
   "execution_count": 45,
   "id": "806bcbb7",
   "metadata": {
    "execution": {
     "iopub.execute_input": "2024-11-22T03:01:14.641972Z",
     "iopub.status.busy": "2024-11-22T03:01:14.641579Z",
     "iopub.status.idle": "2024-11-22T03:16:02.474836Z",
     "shell.execute_reply": "2024-11-22T03:16:02.473150Z"
    },
    "papermill": {
     "duration": 887.881828,
     "end_time": "2024-11-22T03:16:02.501948",
     "exception": false,
     "start_time": "2024-11-22T03:01:14.620120",
     "status": "completed"
    },
    "tags": []
   },
   "outputs": [
    {
     "name": "stdout",
     "output_type": "stream",
     "text": [
      "Hyperparameter Tuned XGBoost Classifier Model with SMOTE\n",
      "Best Parameters: {'classifier__learning_rate': 0.05, 'classifier__max_depth': 6, 'classifier__n_estimators': 100}\n",
      "Best CV Score during tuning: 0.759952676952766\n",
      "Validation F1 Score after tuning: 0.7606544389315761\n",
      "Cross-Validation Score after tuning: 0.759952676952766\n",
      "Classification Report:\n",
      "------------------------------\n",
      "              precision    recall  f1-score   support\n",
      "\n",
      "           0       0.96      0.86      0.91      6645\n",
      "           1       0.51      0.78      0.61      1198\n",
      "\n",
      "    accuracy                           0.85      7843\n",
      "   macro avg       0.73      0.82      0.76      7843\n",
      "weighted avg       0.89      0.85      0.86      7843\n",
      "\n"
     ]
    }
   ],
   "source": [
    "# Define the model pipeline with optional SMOTE\n",
    "model_xgb_ht = ImbPipeline(steps=[\n",
    "    ('preprocessor', preprocessor),\n",
    "    ('smote', SMOTE(random_state=42)),\n",
    "    ('classifier', XGBClassifier(random_state=42))\n",
    "])\n",
    "\n",
    "# Parameter grid for hyperparameter tuning\n",
    "param_grid_xgb_ht = {\n",
    "    'classifier__n_estimators': [100, 200, 300],\n",
    "    'classifier__max_depth': [3, 6, 9],\n",
    "    'classifier__learning_rate': [0.01, 0.05, 0.1],\n",
    "}\n",
    "\n",
    "# GridSearchCV for hyperparameter tuning\n",
    "grid_search_xgb_ht = GridSearchCV(model_xgb_ht, param_grid_xgb_ht, cv=5, n_jobs=-1, \n",
    "                                  scoring='f1_macro', verbose=-1)\n",
    "\n",
    "# Fit the model with GridSearchCV\n",
    "grid_search_xgb_ht.fit(features_train, target_train)\n",
    "\n",
    "# Best parameters and best score from GridSearchCV\n",
    "best_params_xgb_ht = grid_search_xgb_ht.best_params_\n",
    "best_score_xgb_ht = grid_search_xgb_ht.best_score_\n",
    "\n",
    "# Evaluate the model on the validation set\n",
    "target_val_pred_xgb_ht = grid_search_xgb_ht.predict(features_val)\n",
    "val_f1_score_xgb_ht = f1_score(target_val, target_val_pred_xgb_ht, average='macro')\n",
    "\n",
    "# Cross-validation score on the training set\n",
    "cv_scores_xgb_ht = cross_val_score(grid_search_xgb_ht.best_estimator_, features_train, target_train, cv=5, scoring='f1_macro')\n",
    "mean_cv_score_xgb_ht = cv_scores_xgb_ht.mean()\n",
    "\n",
    "# Classification report\n",
    "report_xgb_ht = classification_report(target_val, target_val_pred_xgb_ht, zero_division=0)\n",
    "\n",
    "# Output the results\n",
    "print(\"Hyperparameter Tuned XGBoost Classifier Model with SMOTE\")\n",
    "print(f\"Best Parameters: {best_params_xgb_ht}\")\n",
    "print(f\"Best CV Score during tuning: {best_score_xgb_ht}\")\n",
    "print(f\"Validation F1 Score after tuning: {val_f1_score_xgb_ht}\")\n",
    "print(f\"Cross-Validation Score after tuning: {mean_cv_score_xgb_ht}\")\n",
    "print(f\"Classification Report:\\n{'-'*30}\\n{report_xgb_ht}\")"
   ]
  },
  {
   "cell_type": "markdown",
   "id": "aa8f698f",
   "metadata": {
    "papermill": {
     "duration": 0.019778,
     "end_time": "2024-11-22T03:16:02.542341",
     "exception": false,
     "start_time": "2024-11-22T03:16:02.522563",
     "status": "completed"
    },
    "tags": []
   },
   "source": [
    "# **7. Comparison of Models**"
   ]
  },
  {
   "cell_type": "code",
   "execution_count": 46,
   "id": "088fcf9f",
   "metadata": {
    "execution": {
     "iopub.execute_input": "2024-11-22T03:16:02.584817Z",
     "iopub.status.busy": "2024-11-22T03:16:02.584385Z",
     "iopub.status.idle": "2024-11-22T03:16:03.119715Z",
     "shell.execute_reply": "2024-11-22T03:16:03.118523Z"
    },
    "papermill": {
     "duration": 0.559814,
     "end_time": "2024-11-22T03:16:03.122578",
     "exception": false,
     "start_time": "2024-11-22T03:16:02.562764",
     "status": "completed"
    },
    "tags": []
   },
   "outputs": [
    {
     "data": {
      "image/png": "[encoded data removed]",
      "text/plain": [
       "<Figure size 1500x700 with 1 Axes>"
      ]
     },
     "metadata": {},
     "output_type": "display_data"
    }
   ],
   "source": [
    "models = ['Dummy', 'Decision Tree', 'Gradient Boosting', 'XG Boosting', 'LightGBM', 'LightGBM HT', 'XG Boosting HT']\n",
    "f1_score = [0.4586, 0.6923, 0.7070, 0.7286, 0.7395, 0.7587, 0.7606]  # Replace with actual validation accuracies\n",
    "\n",
    "# Create a DataFrame to hold the model names and accuracies\n",
    "model_comparison = pd.DataFrame({\n",
    "    'Model': models,\n",
    "    'Validation f1_score': f1_score\n",
    "})\n",
    "\n",
    "# Define a list of colors for the bars\n",
    "bar_colors = [\n",
    "    '#4c4c4c', '#1f77b4', '#2ca02c', '#d62728', \n",
    "    '#9467bd', '#ff7f0e', '#e377c2'  \n",
    "]\n",
    "\n",
    "# Plotting the bar chart with custom colors\n",
    "plt.figure(figsize=(15, 7))\n",
    "bars = plt.bar(models, f1_score, color=bar_colors)\n",
    "\n",
    "# Adding aesthetics\n",
    "plt.title('Model Comparison: Validation f1 score', fontsize=18, fontweight='bold')\n",
    "plt.xlabel('Models', fontsize=14, fontweight='bold')\n",
    "plt.ylabel('Validation f1 score', fontsize=14, fontweight='bold')\n",
    "plt.xticks(rotation=45, ha='right', fontsize=12)\n",
    "plt.yticks(fontsize=12)\n",
    "plt.ylim(0, 1) \n",
    "\n",
    "# Adding gridlines for better readability\n",
    "plt.grid(axis='y', linestyle='--', alpha=0.7)\n",
    "\n",
    "# Removing the top and right borders for a cleaner look\n",
    "sns.despine()\n",
    "\n",
    "# Add data labels on top of bars for better readability\n",
    "for bar in bars:\n",
    "    yval = bar.get_height()\n",
    "    plt.text(bar.get_x() + bar.get_width()/2, yval + 0.02, round(yval, 4), ha='center', fontsize=10)\n",
    "\n",
    "# Display the plot with better layout\n",
    "plt.tight_layout()\n",
    "plt.show()\n"
   ]
  },
  {
   "cell_type": "markdown",
   "id": "5aa09101",
   "metadata": {
    "papermill": {
     "duration": 0.020971,
     "end_time": "2024-11-22T03:16:03.164891",
     "exception": false,
     "start_time": "2024-11-22T03:16:03.143920",
     "status": "completed"
    },
    "tags": []
   },
   "source": [
    "# **8. Summary & Insights from models**"
   ]
  },
  {
   "cell_type": "markdown",
   "id": "3ec36101",
   "metadata": {
    "papermill": {
     "duration": 0.020973,
     "end_time": "2024-11-22T03:16:03.207178",
     "exception": false,
     "start_time": "2024-11-22T03:16:03.186205",
     "status": "completed"
    },
    "tags": []
   },
   "source": [
    "## **8.1 Model Evaluation**\n",
    "1. **Dummy Classifier**:\n",
    "   * validation f1 score(macro_average): 0.4586\n",
    "   * Cross-validation f1 score: 0.4601 \n",
    "2. **Decision Tree Classifier**\n",
    "   * validation f1 score(macro_average): 0.6923\n",
    "   * Cross-validation f1 score: 0.6875\n",
    "3. **Gradient Boosting Classifier**\n",
    "   * validation f1 score(macro_average): 0.7070\n",
    "   * Cross-validation f1 score: 0.7090\n",
    "4. **Extreme Gradient Boosting Classifier**\n",
    "   * validation f1 score(macro_average): 0.7286\n",
    "   * Cross-validation f1 score: 0.7297\n",
    "5. **Light Gradient Boosting Classifier**\n",
    "   * validation f1 score(macro_average): 0.7395\n",
    "   * Cross-validation f1 score: 0.7329\n",
    "\n",
    "## **For Hyperparameter Tunned**\n",
    "1. **Light Gradient Boosting Classifier**\n",
    "   * Best Parameters: {'classifier__learning_rate': 0.1, 'classifier__max_depth': 6, 'classifier__n_estimators': 100}\n",
    "   * Validation F1 Score after tuning: 0.7587\n",
    "   * Cross-Validation Score after tuning: 0.7548\n",
    "   \n",
    "2. **Extreme Gradient Boosting Classifier**\n",
    "   * Best Parameters: {'classifier__learning_rate': 0.05, 'classifier__max_depth': 6, 'classifier__n_estimators': 100}\n",
    "   * Validation f1 Score after tuning: 0.7606\n",
    "   * Cross-Validation Score after tuning: 0.7599"
   ]
  },
  {
   "cell_type": "markdown",
   "id": "8a888087",
   "metadata": {
    "papermill": {
     "duration": 0.021014,
     "end_time": "2024-11-22T03:16:03.249942",
     "exception": false,
     "start_time": "2024-11-22T03:16:03.228928",
     "status": "completed"
    },
    "tags": []
   },
   "source": [
    "# **9. Submission of the best model**"
   ]
  },
  {
   "cell_type": "code",
   "execution_count": 47,
   "id": "9cd706e5",
   "metadata": {
    "execution": {
     "iopub.execute_input": "2024-11-22T03:16:03.294516Z",
     "iopub.status.busy": "2024-11-22T03:16:03.294085Z",
     "iopub.status.idle": "2024-11-22T03:16:03.369028Z",
     "shell.execute_reply": "2024-11-22T03:16:03.368021Z"
    },
    "papermill": {
     "duration": 0.100075,
     "end_time": "2024-11-22T03:16:03.371328",
     "exception": false,
     "start_time": "2024-11-22T03:16:03.271253",
     "status": "completed"
    },
    "tags": []
   },
   "outputs": [],
   "source": [
    "def create_submission(model, filename):\n",
    "    processed_test_features = test_df.copy()\n",
    "    predicted_target = model.predict(processed_test_features)\n",
    "    predicted_target_decoded = label_encoder.inverse_transform(predicted_target)\n",
    "    submission = pd.DataFrame({\n",
    "        \"id\": np.arange(len(predicted_target)),\n",
    "        \"target\": predicted_target_decoded\n",
    "    })\n",
    "    submission.to_csv(filename, index=False)\n",
    "\n",
    "# Create submission file\n",
    "create_submission(grid_search_xgb_ht, \"submission.csv\")"
   ]
  }
 ],
 "metadata": {
  "kaggle": {
   "accelerator": "none",
   "dataSources": [
    {
     "databundleVersionId": 9578279,
     "sourceId": 85062,
     "sourceType": "competition"
    }
   ],
   "dockerImageVersionId": 30786,
   "isGpuEnabled": false,
   "isInternetEnabled": false,
   "language": "python",
   "sourceType": "notebook"
  },
  "kernelspec": {
   "display_name": "Python 3",
   "language": "python",
   "name": "python3"
  },
  "language_info": {
   "codemirror_mode": {
    "name": "ipython",
    "version": 3
   },
   "file_extension": ".py",
   "mimetype": "text/x-python",
   "name": "python",
   "nbconvert_exporter": "python",
   "pygments_lexer": "ipython3",
   "version": "3.10.14"
  },
  "papermill": {
   "default_parameters": {},
   "duration": 1031.094595,
   "end_time": "2024-11-22T03:16:04.318406",
   "environment_variables": {},
   "exception": null,
   "input_path": "__notebook__.ipynb",
   "output_path": "__notebook__.ipynb",
   "parameters": {},
   "start_time": "2024-11-22T02:58:53.223811",
   "version": "2.6.0"
  }
 },
 "nbformat": 4,
 "nbformat_minor": 5
}
